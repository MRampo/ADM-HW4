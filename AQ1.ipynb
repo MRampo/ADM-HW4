{
 "cells": [
  {
   "cell_type": "code",
   "execution_count": 2,
   "metadata": {},
   "outputs": [],
   "source": [
    "import pandas as pd\n",
    "import numpy as np"
   ]
  },
  {
   "cell_type": "code",
   "execution_count": 3,
   "metadata": {},
   "outputs": [],
   "source": [
    "def algo(N,M,G,sequence):\n",
    "\n",
    "    #I create a dictionary to count the number of people that need to enter through a certain gate\n",
    "    #The dictionary will be contructed in this way:\n",
    "    # {\"key:gate\" : \"value: number of people that need to enter in that gate\"}\n",
    "    dic = {}\n",
    "\n",
    "    #for every number in the sequence \n",
    "    for x in sequence:\n",
    "\n",
    "        #I check if it's value is already inside as a key\n",
    "        if int(x) in dic.keys():\n",
    "\n",
    "            #if it is, then i increase the counter\n",
    "            dic[int(x)] += 1\n",
    "        else:\n",
    "\n",
    "            #Else i will instanciate it from 1\n",
    "            dic[int(x)] = 1\n",
    "\n",
    "    #This boolean will have the value \"True\" if \n",
    "    isEnough = True\n",
    "\n",
    "    #list used to see when i encounter a new entrance\n",
    "    list = []\n",
    "\n",
    "    #gatekeeper that are currently stationed in a gate\n",
    "    idx =  0  \n",
    "    \n",
    "    #iterate over the length of the sequence\n",
    "    for x in range(len(sequence)):\n",
    "\n",
    "        #If the number it's not in the list then it means that it is the first time someone goes through that gate\n",
    "        if sequence[x] not in list: \n",
    "            #So i put one gatekeeper on that gate\n",
    "            #increase the \"idx\"\n",
    "            idx += 1\n",
    "\n",
    "            #And append the number of the gate, so that i know that someone has already gone through that gate\n",
    "            list.append(sequence[x])\n",
    "\n",
    "        #Once i meet someone that has gone through that gate,\n",
    "        #I decrease the overall number of people that need to go through that gate\n",
    "        dic[int(sequence[x])] -= 1\n",
    "\n",
    "        #If the value of the dictionary corrispondant to that gate is zero\n",
    "        #it means that no one has to go through that gate again\n",
    "        #So i can free one gatekeeper from his job\n",
    "        if dic[int(sequence[x])] == 0:\n",
    "\n",
    "            #decrease the number of gatekeeper occupied\n",
    "            idx = idx - 1\n",
    "\n",
    "        #If the number of gatekeeper occupied is greater than the number of gatekeeper that we can assign then,\n",
    "        #It means that i cant cover all the gates\n",
    "        if idx > G:\n",
    "            #So i will change the value to \"isEnough\" to False\n",
    "            isEnough = False\n",
    "\n",
    "    #Print results based on \"isEnough\"\n",
    "    print(\"YES\") if isEnough else print(\"NO\")\n"
   ]
  },
  {
   "cell_type": "code",
   "execution_count": 4,
   "metadata": {},
   "outputs": [
    {
     "name": "stdout",
     "output_type": "stream",
     "text": [
      "YES\n"
     ]
    }
   ],
   "source": [
    "#Read the input\n",
    "N,M,G = map(int, input().split())\n",
    "sequence = input().split()\n",
    "algo(N,M,G,sequence)"
   ]
  },
  {
   "cell_type": "code",
   "execution_count": null,
   "metadata": {},
   "outputs": [],
   "source": []
  }
 ],
 "metadata": {
  "kernelspec": {
   "display_name": "Python 3.9.12 ('base')",
   "language": "python",
   "name": "python3"
  },
  "language_info": {
   "codemirror_mode": {
    "name": "ipython",
    "version": 3
   },
   "file_extension": ".py",
   "mimetype": "text/x-python",
   "name": "python",
   "nbconvert_exporter": "python",
   "pygments_lexer": "ipython3",
   "version": "3.9.12"
  },
  "orig_nbformat": 4,
  "vscode": {
   "interpreter": {
    "hash": "cd94c265d0cd8d4c5ed894c320907f0fc1771c221568605f48fbe0110aecbb76"
   }
  }
 },
 "nbformat": 4,
 "nbformat_minor": 2
}
