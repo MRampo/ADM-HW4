{
 "cells": [
  {
   "cell_type": "code",
   "execution_count": 2,
   "metadata": {},
   "outputs": [],
   "source": [
    "import pandas as pd\n",
    "import numpy as np"
   ]
  },
  {
   "cell_type": "code",
   "execution_count": 4,
   "metadata": {},
   "outputs": [],
   "source": [
    "\n",
    "def prova():\n",
    "    #Read the input\n",
    "    N,M,G = map(int, input().split())\n",
    "    sequence = input().split()\n",
    "    \n",
    "    dic = {}\n",
    "    for x in sequence:\n",
    "        if int(x) in dic.keys():\n",
    "            dic[int(x)] += 1\n",
    "        else:\n",
    "            dic[int(x)] = 1\n",
    "\n",
    "    list = []\n",
    "    idx =  0   # Indica la posizione del primo guardiano libero nell'array\n",
    "    for x in range(len(sequence)):\n",
    "        dic[int(sequence[x])] -= 1\n",
    "        if dic[int(sequence[x])] == 0:\n",
    "            idx = idx - 1\n",
    "        if sequence[x] not in list: \n",
    "            idx += 1\n",
    "            list.append(sequence[x])\n",
    "        if idx > G:\n",
    "            return \"NO\"\n",
    "    return \"YES\"\n"
   ]
  },
  {
   "cell_type": "code",
   "execution_count": 5,
   "metadata": {},
   "outputs": [
    {
     "data": {
      "text/plain": [
       "'NO'"
      ]
     },
     "execution_count": 5,
     "metadata": {},
     "output_type": "execute_result"
    }
   ],
   "source": [
    "prova()\n"
   ]
  }
 ],
 "metadata": {
  "kernelspec": {
   "display_name": "Python 3.9.13 ('base')",
   "language": "python",
   "name": "python3"
  },
  "language_info": {
   "codemirror_mode": {
    "name": "ipython",
    "version": 3
   },
   "file_extension": ".py",
   "mimetype": "text/x-python",
   "name": "python",
   "nbconvert_exporter": "python",
   "pygments_lexer": "ipython3",
   "version": "3.9.13"
  },
  "orig_nbformat": 4,
  "vscode": {
   "interpreter": {
    "hash": "673b3a28213e3c597c6fa49b945d6bcb4c24a69618c6cbd1a3b12a5f14d6b7d7"
   }
  }
 },
 "nbformat": 4,
 "nbformat_minor": 2
}
