{
 "cells": [
  {
   "cell_type": "markdown",
   "id": "cfabb7cd",
   "metadata": {},
   "source": [
    "# 2. Grouping customers together!"
   ]
  },
  {
   "cell_type": "code",
   "execution_count": 1,
   "id": "3ce98cf7",
   "metadata": {},
   "outputs": [],
   "source": [
    "# importing required packages\n",
    "import pandas as pd\n",
    "import numpy as np\n",
    "from tqdm import tqdm\n",
    "from datetime import datetime as dt\n",
    "import matplotlib.pyplot as plt"
   ]
  },
  {
   "cell_type": "markdown",
   "id": "ef828531",
   "metadata": {},
   "source": [
    "## 2.1 Getting your data + feature engineering"
   ]
  },
  {
   "cell_type": "code",
   "execution_count": 2,
   "id": "77959867",
   "metadata": {},
   "outputs": [],
   "source": [
    "# reading data\n",
    "data = pd.read_csv('bank_transactions.csv', delimiter = ',')\n",
    "# renaming TransactionAmount (INR) column\n",
    "data.rename(columns = {\"TransactionAmount (INR)\":\"TransactionAmount_INR\"}, inplace = True)"
   ]
  },
  {
   "cell_type": "code",
   "execution_count": 3,
   "id": "6524df6f",
   "metadata": {
    "scrolled": true
   },
   "outputs": [
    {
     "data": {
      "text/plain": [
       "Index(['TransactionID', 'CustomerID', 'CustomerDOB', 'CustGender',\n",
       "       'CustLocation', 'CustAccountBalance', 'TransactionDate',\n",
       "       'TransactionTime', 'TransactionAmount_INR'],\n",
       "      dtype='object')"
      ]
     },
     "execution_count": 3,
     "metadata": {},
     "output_type": "execute_result"
    }
   ],
   "source": [
    "data.columns"
   ]
  },
  {
   "cell_type": "markdown",
   "id": "18ce1007",
   "metadata": {},
   "source": [
    "#### Formatting DateTime"
   ]
  },
  {
   "cell_type": "code",
   "execution_count": 4,
   "id": "b28b79a1",
   "metadata": {},
   "outputs": [],
   "source": [
    "# cleaning data\n",
    "# dropping na, reformatting date times\n",
    "\n",
    "data.dropna(inplace=True)#? doesnt change\n",
    "data.CustomerDOB = pd.to_datetime(data.CustomerDOB) \n",
    "data.TransactionDate = pd.to_datetime(data.TransactionDate) \n",
    "data.TransactionTime = data.TransactionTime.apply(lambda x: dt.strptime(str(x).zfill(6), '%H%M%S').time() )"
   ]
  },
  {
   "cell_type": "markdown",
   "id": "fb1ab3c4",
   "metadata": {},
   "source": [
    "#### Offset the people born after 2000 and drop the Customer born before 1900"
   ]
  },
  {
   "cell_type": "code",
   "execution_count": 5,
   "id": "74c7b7b9",
   "metadata": {},
   "outputs": [],
   "source": [
    "data_cop = data.copy()\n",
    "data.loc[data.CustomerDOB.dt.year > 2000, 'CustomerDOB'] = data.loc[data.CustomerDOB.dt.year > 2000, 'CustomerDOB'] - pd.DateOffset(years = 100)\n",
    "data.drop(data[data.CustomerDOB.dt.year < 1900].index, axis=0, inplace=True)"
   ]
  },
  {
   "cell_type": "markdown",
   "id": "2b1db5d6",
   "metadata": {},
   "source": [
    "We reformat the data to remove some unnatural occurences of dates of births (DOB). The CustomerIDs with a DOB in 1800 are dropped. DOBs over 2000 are set off by 100 years. The modified data seems more natural."
   ]
  },
  {
   "cell_type": "code",
   "execution_count": 6,
   "id": "7006810c",
   "metadata": {},
   "outputs": [
    {
     "data": {
      "text/plain": [
       "Text(0.5, 1.0, 'CustomerDOB modified')"
      ]
     },
     "execution_count": 6,
     "metadata": {},
     "output_type": "execute_result"
    },
    {
     "data": {
      "image/png": "[encoded data removed]",
      "text/plain": [
       "<Figure size 1008x216 with 2 Axes>"
      ]
     },
     "metadata": {
      "needs_background": "light"
     },
     "output_type": "display_data"
    }
   ],
   "source": [
    "fig, ax = plt.subplots(1,2, figsize = (14, 3))\n",
    "\n",
    "hist = data_cop.hist(column='CustomerDOB', bins = 50, ax = ax[0])\n",
    "ax[0].set_title('CustomerDOB before modification')\n",
    "hist2 = data.hist(column='CustomerDOB', bins = 50, ax = ax[1])\n",
    "ax[1].set_title('CustomerDOB modified')"
   ]
  },
  {
   "cell_type": "markdown",
   "id": "166fc3ad",
   "metadata": {},
   "source": [
    "### Number of transaction per CustomerID"
   ]
  },
  {
   "cell_type": "code",
   "execution_count": 7,
   "id": "51ba4076",
   "metadata": {
    "scrolled": true
   },
   "outputs": [],
   "source": [
    "# nr_trans \n",
    "nr_trans = data[['CustomerID','TransactionID']].groupby(by = 'CustomerID').count()\n",
    "nr_trans.rename(columns = {'TransactionID' : 'nr_trans'}, inplace = True)"
   ]
  },
  {
   "cell_type": "markdown",
   "id": "c8b9010b",
   "metadata": {},
   "source": [
    "### Number of transaction that have a value larger than 100"
   ]
  },
  {
   "cell_type": "code",
   "execution_count": 8,
   "id": "9b3b149d",
   "metadata": {},
   "outputs": [],
   "source": [
    "# nr of transactions that exceed 100 INR\n",
    "nr_trans_greater_100 = data[['CustomerID','TransactionAmount_INR']].query(\"TransactionAmount_INR > 100\").groupby(by= \"CustomerID\").count()\n",
    "nr_trans.rename(columns = {'TransactionAmount_INR' : 'trans_greater_100'}, inplace = True)"
   ]
  },
  {
   "cell_type": "markdown",
   "id": "d08bd322",
   "metadata": {},
   "source": [
    "### Mean of transactions for each customer"
   ]
  },
  {
   "cell_type": "code",
   "execution_count": 9,
   "id": "dcda2a40",
   "metadata": {},
   "outputs": [],
   "source": [
    "#  mean_trans \n",
    "mean_trans = data[['CustomerID','TransactionAmount_INR']].groupby(by='CustomerID').mean()\n",
    "mean_trans.rename(columns = {'TransactionAmount_INR':'mean_trans' }, inplace = True)"
   ]
  },
  {
   "cell_type": "markdown",
   "id": "499c1ed3",
   "metadata": {},
   "source": [
    "### Mean of total Balance for each customerID"
   ]
  },
  {
   "cell_type": "code",
   "execution_count": 10,
   "id": "b8d5cf75",
   "metadata": {},
   "outputs": [],
   "source": [
    "# mean_balance\n",
    "mean_balance = data[['CustomerID','CustAccountBalance']].groupby(by='CustomerID').mean()\n",
    "mean_balance.rename(columns = {'CustAccountBalance':'mean_balance' }, inplace = True)"
   ]
  },
  {
   "cell_type": "markdown",
   "id": "44f5d80a",
   "metadata": {},
   "source": [
    "### Mean difference between the mean balance and the mean transaction"
   ]
  },
  {
   "cell_type": "code",
   "execution_count": 11,
   "id": "52aeb2ba",
   "metadata": {},
   "outputs": [],
   "source": [
    "#mean_diff. Aka Utilization\n",
    "mean_diff = pd.DataFrame( mean_balance.mean_balance.sub(mean_trans.mean_trans, axis = 0) )\n",
    "mean_diff.columns = ['mean_diff']"
   ]
  },
  {
   "cell_type": "markdown",
   "id": "aba7109f",
   "metadata": {},
   "source": [
    "### Most frequent gender for each customerID"
   ]
  },
  {
   "cell_type": "code",
   "execution_count": 12,
   "id": "8debcea3",
   "metadata": {},
   "outputs": [],
   "source": [
    "gender_most_freq = data.groupby(by = 'CustomerID').apply(lambda x: x['CustGender'].value_counts().index[0])\n",
    "gender_most_freq = pd.DataFrame(gender_most_freq)\n",
    "gender_most_freq.columns = ['gender_most_freq']\n",
    "# converting 'M' to 1 and 'F' to 0\n",
    "gender_most_freq['gender_most_freq'] = gender_most_freq['gender_most_freq'].apply(lambda x: 1 if x=='M' else 0)"
   ]
  },
  {
   "cell_type": "markdown",
   "id": "094c16c2",
   "metadata": {},
   "source": [
    "### Most frequent location "
   ]
  },
  {
   "cell_type": "code",
   "execution_count": 13,
   "id": "2355cf43",
   "metadata": {},
   "outputs": [],
   "source": [
    "# most_freq_loc new\n",
    "most_freq_loc = data.groupby(by='CustomerID').apply(lambda x: x['CustLocation'].value_counts().index[0])\n",
    "most_freq_loc = pd.DataFrame(most_freq_loc)\n",
    "most_freq_loc.columns = [ 'most_freq_loc']"
   ]
  },
  {
   "cell_type": "markdown",
   "id": "e97dc057",
   "metadata": {},
   "source": [
    "### Merge all the 7 features into one df"
   ]
  },
  {
   "cell_type": "code",
   "execution_count": 14,
   "id": "6476de2e",
   "metadata": {},
   "outputs": [
    {
     "name": "stderr",
     "output_type": "stream",
     "text": [
      "/var/folders/c0/1q90pl8n3k50gnjpfmzf_lzh0000gn/T/ipykernel_31625/3440457736.py:6: FutureWarning: In a future version of pandas all arguments of concat except for the argument 'objs' will be keyword-only.\n",
      "  df_7 = pd.concat(dfs, 1)\n"
     ]
    }
   ],
   "source": [
    "# merging nr_trans and nr_trans_greater_100 separately to ensure correct format\n",
    "nr_trans_and_nr_greater_100 = nr_trans.merge(nr_trans_greater_100, on= 'CustomerID', how='left').fillna(0)\n",
    "# all the dfs to be concatenated\n",
    "dfs = [nr_trans_and_nr_greater_100, mean_trans, mean_balance, mean_diff, gender_most_freq, most_freq_loc]\n",
    "\n",
    "df_7 = pd.concat(dfs, 1)"
   ]
  },
  {
   "cell_type": "code",
   "execution_count": 15,
   "id": "766fcbdd",
   "metadata": {
    "scrolled": true
   },
   "outputs": [],
   "source": [
    "# saving for later usage\n",
    "df_7.to_csv('seven_params_3.csv', sep=',', encoding='utf-8', index = False)"
   ]
  },
  {
   "cell_type": "markdown",
   "id": "acda2be8",
   "metadata": {},
   "source": [
    "## 20 features"
   ]
  },
  {
   "cell_type": "code",
   "execution_count": 22,
   "id": "38369094",
   "metadata": {},
   "outputs": [],
   "source": [
    "def findMinMaxTrans(data) -> pd.DataFrame:\n",
    "    return data.groupby(\"CustomerID\").agg(  min_trans = (\"TransactionAmount_INR\", min),\n",
    "                                            max_trans = (\"TransactionAmount_INR\", max),\n",
    "                                            )"
   ]
  },
  {
   "cell_type": "code",
   "execution_count": 36,
   "id": "1bd6f12b",
   "metadata": {},
   "outputs": [],
   "source": [
    "def findQuant(data, quant) -> pd.DataFrame:\n",
    "    df = data.groupby('CustomerID')[['CustomerID','TransactionAmount_INR']].quantile(quant)\n",
    "    return df.rename(columns = {'TransactionAmount_INR':f'{quant}_quant_trans' })"
   ]
  },
  {
   "cell_type": "code",
   "execution_count": 47,
   "id": "89cb1f6f",
   "metadata": {},
   "outputs": [],
   "source": [
    "def findTransValueVar(data) -> pd.DataFrame:\n",
    "    var =  data.groupby('CustomerID').apply(lambda group: group['TransactionAmount_INR'].nunique()/len(group['TransactionAmount_INR']))\n",
    "    return pd.DataFrame(var).rename(columns={'TransactionAmount_INR':'trans_val_var'})"
   ]
  },
  {
   "cell_type": "code",
   "execution_count": 53,
   "id": "e2d529cb",
   "metadata": {},
   "outputs": [],
   "source": [
    "def findMinMaxDiffBalance(data) -> pd.DataFrame:\n",
    "    df =  data.groupby(\"CustomerID\").agg(  min_balance = (\"CustAccountBalance\", min),\n",
    "                                            max_balance = (\"CustAccountBalance\", max),\n",
    "                                            )\n",
    "    df['diff_balance'] =  df.max_balance.sub(df.min_balance, axis = 0)\n",
    "    return df"
   ]
  },
  {
   "cell_type": "code",
   "execution_count": 80,
   "id": "2763b46f",
   "metadata": {},
   "outputs": [],
   "source": [
    "\n",
    "def findTransactionTimes(data) -> pd.DataFrame:\n",
    "    hours_data = data[['CustomerID', 'TransactionTime']]\n",
    "    hours_data['TransactionTime'] = pd.to_datetime((hours_data['TransactionTime']).astype(str)).dt.hour\n",
    "    mean_hour = hours_data.groupby(by = 'CustomerID').mean()\n",
    "    max_hour = hours_data.groupby(by = 'CustomerID').max()\n",
    "    min_hour = hours_data.groupby(by = 'CustomerID').min()\n",
    "    most_freq_hour = hours_data.groupby(by = 'CustomerID')['TransactionTime'].apply(lambda x: x.value_counts().index[0])\n",
    "    most_freq_hour = pd.DataFrame(most_freq_hour)\n",
    "\n",
    "    df = pd.concat([mean_hour, max_hour, min_hour, most_freq_hour], 1)\n",
    "    df.columns = ['mean_hour', 'max_hour', 'min_hour', 'most_freq_hour']\n",
    "\n",
    "    return df"
   ]
  },
  {
   "cell_type": "code",
   "execution_count": 165,
   "id": "cc65b2d6",
   "metadata": {},
   "outputs": [],
   "source": [
    "def findTransactionDate(data) -> pd.DataFrame:\n",
    "    dates = data[['CustomerID', 'TransactionDate']]\n",
    "    #dates['dt'] = pd.to_datetime(dates.TransactionDate.astype(str))\n",
    "    most_freq_weekday = dates.groupby(by = 'CustomerID').apply(lambda group: group.TransactionDate.dt.weekday.value_counts().index[0])\n",
    "    most_freq_month = dates.groupby(by = 'CustomerID').apply(lambda group: group.TransactionDate.dt.month.value_counts().index[0])\n",
    "    nr_diff_months = dates.groupby(by = 'CustomerID').apply(lambda group: group.TransactionDate.dt.month.nunique())\n",
    "\n",
    "    frame = {'most_freq_weekday': most_freq_weekday, 'most_freq_month': most_freq_month, 'nr_diff_months': nr_diff_months}\n",
    "    df = pd.DataFrame(frame)\n",
    "    return df"
   ]
  },
  {
   "cell_type": "code",
   "execution_count": 112,
   "id": "de441706",
   "metadata": {},
   "outputs": [],
   "source": [
    "def findNrLocs(data) -> pd.DataFrame:\n",
    "    df =  pd.DataFrame(data.groupby(by = 'CustomerID')['CustLocation'].nunique())\n",
    "    df.columns = ['nr_diff_locs']\n",
    "    return df"
   ]
  },
  {
   "cell_type": "code",
   "execution_count": 113,
   "id": "7a683684",
   "metadata": {},
   "outputs": [],
   "source": [
    "def findNrDOB(data) -> pd.DataFrame:\n",
    "    df = pd.DataFrame(data.groupby(by = 'CustomerID')['CustomerDOB'].nunique())\n",
    "    df.columns = ['nr_diff_dob']\n",
    "    return df"
   ]
  },
  {
   "cell_type": "code",
   "execution_count": 206,
   "id": "8cda062c",
   "metadata": {},
   "outputs": [],
   "source": [
    "def findMeanAge(data):\n",
    "    df = data[['CustomerID', 'TransactionDate', 'CustomerDOB']].groupby(by = 'CustomerID').apply(lambda group: (group.TransactionDate-group.CustomerDOB ).astype('timedelta64[Y]').mean() )# might have to select in data already\n",
    "    df = pd.DataFrame(df)\n",
    "    df.columns = ['mean_age_trans']\n",
    "    return df"
   ]
  },
  {
   "cell_type": "code",
   "execution_count": 171,
   "id": "fcc9fbae",
   "metadata": {},
   "outputs": [],
   "source": [
    "def findNrTrans1K(data) -> pd.DataFrame:\n",
    "    df = data[['CustomerID','TransactionAmount_INR']].query(\"TransactionAmount_INR > 100\").groupby(by= \"CustomerID\").count()\n",
    "    df.columns = ['trans_greater_1k']\n",
    "    return df"
   ]
  },
  {
   "cell_type": "code",
   "execution_count": 141,
   "id": "10962670",
   "metadata": {},
   "outputs": [],
   "source": [
    "def findNrBalance100K(data) -> pd.DataFrame:\n",
    "    df = data[['CustomerID','CustAccountBalance']].query(\"CustAccountBalance > 100\").groupby(by= \"CustomerID\").count()\n",
    "    df.columns = ['balance_greater_100k']\n",
    "    return df"
   ]
  },
  {
   "cell_type": "code",
   "execution_count": 198,
   "id": "876294d9",
   "metadata": {},
   "outputs": [],
   "source": [
    "def findTrans_ValBalRatio(data) -> pd.DataFrame:\n",
    "    mean_ratio = data.groupby(by = 'CustomerID').apply(lambda group: (group.TransactionAmount_INR / group.CustAccountBalance).mean())\n",
    "    max_ratio = data.groupby(by = 'CustomerID').apply(lambda group: (group.TransactionAmount_INR / group.CustAccountBalance).min())\n",
    "    frame = {'mean_ratio': mean_ratio, 'max_ratio': max_ratio}\n",
    "    df = pd.DataFrame(frame)\n",
    "    return df"
   ]
  },
  {
   "cell_type": "code",
   "execution_count": 207,
   "id": "33127038",
   "metadata": {},
   "outputs": [],
   "source": [
    "def features_20(data): \n",
    "    \n",
    "    #min and max of transaction for each customerID\n",
    "    min_max_trans = findMinMaxTrans(data)\n",
    "    #quantiles of transactions for each customerID\n",
    "    quant_75_trans = findQuant(data, 0.75)\n",
    "    quant_25_trans = findQuant(data, 0.25)\n",
    "    # ratio of unique transactions amounts for customerID\n",
    "    trans_val_var = findTransValueVar(data)\n",
    "    \n",
    "    #min and max of balance for each customerID\n",
    "    min_max_diff_balance = findMinMaxDiffBalance(data)\n",
    "    \n",
    "    # get max_hour, min_hour, mean_hour and most frequent hour of transactions for customerID\n",
    "    transaction_times = findTransactionTimes(data)\n",
    "    \n",
    "    # get most frequent weekdy, most frequent month, and number of differnt months for transactions done by the customerID\n",
    "    transaction_dates = findTransactionDate(data)\n",
    "    \n",
    "    # number of different locations from which a customerID has made transactions\n",
    "    nr_diff_locs = findNrLocs(data)\n",
    "    \n",
    "    # nr of unique dates of birth for customerID, might roughly be the number of people using the account\n",
    "    nr_diff_dob = findNrDOB(data) \n",
    "    \n",
    "    # mean age of customerID at times of transaction (in years)\n",
    "    age_mean = findMeanAge(data)\n",
    "    \n",
    "    # number transactions that exceed 1000 INR\n",
    "    nr_trans_1k = findNrTrans1K(data) # dimension!\n",
    "    \n",
    "    # number transaction instances at which the customer balance was > 100000\n",
    "    nr_balance_100k = findNrBalance100K(data)\n",
    "    \n",
    "    # transaction amount/balance ratio , return the mean and max of this ratio\n",
    "    trans_valbalratio = findTrans_ValBalRatio(data)\n",
    "\n",
    "    # merging dataframes with different dimensionality separately\n",
    "    pre_df = min_max_trans.merge(nr_trans_1k, on = 'CustomerID', how = 'left').fillna(0)\n",
    "    pre_df = pre_df.merge(nr_balance_100k, on = 'CustomerID', how = 'left').fillna(0)\n",
    "\n",
    "    df_all = pd.concat([pre_df, quant_75_trans, quant_25_trans, trans_val_var, min_max_diff_balance, transaction_times, transaction_dates, \n",
    "                        nr_diff_locs, nr_diff_dob, age_mean, trans_valbalratio], 1)\n",
    "    \n",
    "    return df_all    \n",
    "\n",
    "    # these were originally included:\n",
    "    #avg_nr_trans_perday = group.groupby(by= 'TransactionDate').count().mean()\n",
    "    #first_freq_loc = group['CustLocation'].agg(lambda x:x.value_counts().index[0])\n",
    "    #std_balance = group['CustAccountBalance'].std()\n",
    "    "
   ]
  },
  {
   "cell_type": "code",
   "execution_count": 173,
   "id": "9a9d9ec1",
   "metadata": {
    "scrolled": true
   },
   "outputs": [
    {
     "name": "stderr",
     "output_type": "stream",
     "text": [
      "/var/folders/c0/1q90pl8n3k50gnjpfmzf_lzh0000gn/T/ipykernel_3943/457625945.py:2: FutureWarning: Dropping invalid columns in DataFrameGroupBy.quantile is deprecated. In a future version, a TypeError will be raised. Before calling .quantile, select only columns which should be valid for the function.\n",
      "  df = data.groupby('CustomerID')[['CustomerID','TransactionAmount_INR']].quantile(quant)\n",
      "/var/folders/c0/1q90pl8n3k50gnjpfmzf_lzh0000gn/T/ipykernel_3943/457625945.py:2: FutureWarning: Dropping invalid columns in DataFrameGroupBy.quantile is deprecated. In a future version, a TypeError will be raised. Before calling .quantile, select only columns which should be valid for the function.\n",
      "  df = data.groupby('CustomerID')[['CustomerID','TransactionAmount_INR']].quantile(quant)\n",
      "/var/folders/c0/1q90pl8n3k50gnjpfmzf_lzh0000gn/T/ipykernel_3943/1643579581.py:3: SettingWithCopyWarning: \n",
      "A value is trying to be set on a copy of a slice from a DataFrame.\n",
      "Try using .loc[row_indexer,col_indexer] = value instead\n",
      "\n",
      "See the caveats in the documentation: https://pandas.pydata.org/pandas-docs/stable/user_guide/indexing.html#returning-a-view-versus-a-copy\n",
      "  hours_data['TransactionTime'] = pd.to_datetime((hours_data['TransactionTime']).astype(str)).dt.hour\n",
      "/var/folders/c0/1q90pl8n3k50gnjpfmzf_lzh0000gn/T/ipykernel_3943/1643579581.py:10: FutureWarning: In a future version of pandas all arguments of concat except for the argument 'objs' will be keyword-only.\n",
      "  df = pd.concat([mean_hour, max_hour, min_hour, most_freq_hour], 1)\n",
      "/var/folders/c0/1q90pl8n3k50gnjpfmzf_lzh0000gn/T/ipykernel_3943/83954624.py:47: FutureWarning: In a future version of pandas all arguments of concat except for the argument 'objs' will be keyword-only.\n",
      "  df_all = pd.concat([pre_df, quant_75_trans, quant_25_trans, trans_val_var, min_max_diff_balance, transaction_times, transaction_dates,\n"
     ]
    }
   ],
   "source": [
    "# calling the function features_20() for the data 'bank_transactions.csv'\n",
    "data_20 = features_20(data)"
   ]
  },
  {
   "cell_type": "code",
   "execution_count": 26,
   "id": "2347c6c5",
   "metadata": {},
   "outputs": [
    {
     "data": {
      "text/html": [
       "<div>\n",
       "<style scoped>\n",
       "    .dataframe tbody tr th:only-of-type {\n",
       "        vertical-align: middle;\n",
       "    }\n",
       "\n",
       "    .dataframe tbody tr th {\n",
       "        vertical-align: top;\n",
       "    }\n",
       "\n",
       "    .dataframe thead th {\n",
       "        text-align: right;\n",
       "    }\n",
       "</style>\n",
       "<table border=\"1\" class=\"dataframe\">\n",
       "  <thead>\n",
       "    <tr style=\"text-align: right;\">\n",
       "      <th></th>\n",
       "      <th>CustomerID</th>\n",
       "      <th>min_trans</th>\n",
       "      <th>max_trans</th>\n",
       "      <th>trans_greater_1k</th>\n",
       "      <th>balance_greater_100k</th>\n",
       "      <th>0.75_quant_trans</th>\n",
       "      <th>0.25_quant_trans</th>\n",
       "      <th>trans_val_var</th>\n",
       "      <th>min_balance</th>\n",
       "      <th>max_balance</th>\n",
       "      <th>...</th>\n",
       "      <th>min_hour</th>\n",
       "      <th>most_freq_hour</th>\n",
       "      <th>most_freq_weekday</th>\n",
       "      <th>most_freq_month</th>\n",
       "      <th>nr_diff_months</th>\n",
       "      <th>nr_diff_locs</th>\n",
       "      <th>nr_diff_dob</th>\n",
       "      <th>mean_age_trans</th>\n",
       "      <th>mean_ratio</th>\n",
       "      <th>max_ratio</th>\n",
       "    </tr>\n",
       "  </thead>\n",
       "  <tbody>\n",
       "    <tr>\n",
       "      <th>0</th>\n",
       "      <td>C1010011</td>\n",
       "      <td>356.0</td>\n",
       "      <td>4750.0</td>\n",
       "      <td>2.0</td>\n",
       "      <td>2.0</td>\n",
       "      <td>3651.50</td>\n",
       "      <td>1454.50</td>\n",
       "      <td>1.0</td>\n",
       "      <td>32500.73</td>\n",
       "      <td>120180.54</td>\n",
       "      <td>...</td>\n",
       "      <td>1</td>\n",
       "      <td>12</td>\n",
       "      <td>0</td>\n",
       "      <td>9</td>\n",
       "      <td>1</td>\n",
       "      <td>2</td>\n",
       "      <td>2</td>\n",
       "      <td>28.0</td>\n",
       "      <td>0.074556</td>\n",
       "      <td>0.002962</td>\n",
       "    </tr>\n",
       "    <tr>\n",
       "      <th>1</th>\n",
       "      <td>C1010012</td>\n",
       "      <td>1499.0</td>\n",
       "      <td>1499.0</td>\n",
       "      <td>1.0</td>\n",
       "      <td>1.0</td>\n",
       "      <td>1499.00</td>\n",
       "      <td>1499.00</td>\n",
       "      <td>1.0</td>\n",
       "      <td>24204.49</td>\n",
       "      <td>24204.49</td>\n",
       "      <td>...</td>\n",
       "      <td>20</td>\n",
       "      <td>20</td>\n",
       "      <td>6</td>\n",
       "      <td>8</td>\n",
       "      <td>1</td>\n",
       "      <td>1</td>\n",
       "      <td>1</td>\n",
       "      <td>22.0</td>\n",
       "      <td>0.061931</td>\n",
       "      <td>0.061931</td>\n",
       "    </tr>\n",
       "    <tr>\n",
       "      <th>2</th>\n",
       "      <td>C1010014</td>\n",
       "      <td>250.0</td>\n",
       "      <td>1205.0</td>\n",
       "      <td>2.0</td>\n",
       "      <td>2.0</td>\n",
       "      <td>966.25</td>\n",
       "      <td>488.75</td>\n",
       "      <td>1.0</td>\n",
       "      <td>38377.14</td>\n",
       "      <td>161848.76</td>\n",
       "      <td>...</td>\n",
       "      <td>15</td>\n",
       "      <td>15</td>\n",
       "      <td>4</td>\n",
       "      <td>1</td>\n",
       "      <td>2</td>\n",
       "      <td>1</td>\n",
       "      <td>2</td>\n",
       "      <td>27.0</td>\n",
       "      <td>0.016472</td>\n",
       "      <td>0.001545</td>\n",
       "    </tr>\n",
       "    <tr>\n",
       "      <th>3</th>\n",
       "      <td>C1010018</td>\n",
       "      <td>30.0</td>\n",
       "      <td>30.0</td>\n",
       "      <td>0.0</td>\n",
       "      <td>1.0</td>\n",
       "      <td>30.00</td>\n",
       "      <td>30.00</td>\n",
       "      <td>1.0</td>\n",
       "      <td>496.18</td>\n",
       "      <td>496.18</td>\n",
       "      <td>...</td>\n",
       "      <td>17</td>\n",
       "      <td>17</td>\n",
       "      <td>3</td>\n",
       "      <td>9</td>\n",
       "      <td>1</td>\n",
       "      <td>1</td>\n",
       "      <td>1</td>\n",
       "      <td>26.0</td>\n",
       "      <td>0.060462</td>\n",
       "      <td>0.060462</td>\n",
       "    </tr>\n",
       "    <tr>\n",
       "      <th>4</th>\n",
       "      <td>C1010024</td>\n",
       "      <td>5000.0</td>\n",
       "      <td>5000.0</td>\n",
       "      <td>1.0</td>\n",
       "      <td>1.0</td>\n",
       "      <td>5000.00</td>\n",
       "      <td>5000.00</td>\n",
       "      <td>1.0</td>\n",
       "      <td>87058.65</td>\n",
       "      <td>87058.65</td>\n",
       "      <td>...</td>\n",
       "      <td>14</td>\n",
       "      <td>14</td>\n",
       "      <td>3</td>\n",
       "      <td>8</td>\n",
       "      <td>1</td>\n",
       "      <td>1</td>\n",
       "      <td>1</td>\n",
       "      <td>51.0</td>\n",
       "      <td>0.057433</td>\n",
       "      <td>0.057433</td>\n",
       "    </tr>\n",
       "  </tbody>\n",
       "</table>\n",
       "<p>5 rows × 23 columns</p>\n",
       "</div>"
      ],
      "text/plain": [
       "  CustomerID  min_trans  max_trans  trans_greater_1k  balance_greater_100k  \\\n",
       "0   C1010011      356.0     4750.0               2.0                   2.0   \n",
       "1   C1010012     1499.0     1499.0               1.0                   1.0   \n",
       "2   C1010014      250.0     1205.0               2.0                   2.0   \n",
       "3   C1010018       30.0       30.0               0.0                   1.0   \n",
       "4   C1010024     5000.0     5000.0               1.0                   1.0   \n",
       "\n",
       "   0.75_quant_trans  0.25_quant_trans  trans_val_var  min_balance  \\\n",
       "0           3651.50           1454.50            1.0     32500.73   \n",
       "1           1499.00           1499.00            1.0     24204.49   \n",
       "2            966.25            488.75            1.0     38377.14   \n",
       "3             30.00             30.00            1.0       496.18   \n",
       "4           5000.00           5000.00            1.0     87058.65   \n",
       "\n",
       "   max_balance  ...  min_hour  most_freq_hour  most_freq_weekday  \\\n",
       "0    120180.54  ...         1              12                  0   \n",
       "1     24204.49  ...        20              20                  6   \n",
       "2    161848.76  ...        15              15                  4   \n",
       "3       496.18  ...        17              17                  3   \n",
       "4     87058.65  ...        14              14                  3   \n",
       "\n",
       "   most_freq_month  nr_diff_months  nr_diff_locs  nr_diff_dob  mean_age_trans  \\\n",
       "0                9               1             2            2            28.0   \n",
       "1                8               1             1            1            22.0   \n",
       "2                1               2             1            2            27.0   \n",
       "3                9               1             1            1            26.0   \n",
       "4                8               1             1            1            51.0   \n",
       "\n",
       "   mean_ratio  max_ratio  \n",
       "0    0.074556   0.002962  \n",
       "1    0.061931   0.061931  \n",
       "2    0.016472   0.001545  \n",
       "3    0.060462   0.060462  \n",
       "4    0.057433   0.057433  \n",
       "\n",
       "[5 rows x 23 columns]"
      ]
     },
     "execution_count": 26,
     "metadata": {},
     "output_type": "execute_result"
    }
   ],
   "source": [
    "data_20.head()"
   ]
  },
  {
   "cell_type": "code",
   "execution_count": 203,
   "id": "ba5c8f64",
   "metadata": {},
   "outputs": [],
   "source": [
    "# storing for later usage\n",
    "data_20.to_csv('twenty_params_2.csv', sep = ',', encoding = 'utf-8')"
   ]
  },
  {
   "cell_type": "markdown",
   "id": "060ec8ba",
   "metadata": {},
   "source": [
    "# 2.2 Choose your features (variables)!"
   ]
  }
 ],
 "metadata": {
  "kernelspec": {
   "display_name": "Python 3.10.4 ('roma')",
   "language": "python",
   "name": "python3"
  },
  "language_info": {
   "codemirror_mode": {
    "name": "ipython",
    "version": 3
   },
   "file_extension": ".py",
   "mimetype": "text/x-python",
   "name": "python",
   "nbconvert_exporter": "python",
   "pygments_lexer": "ipython3",
   "version": "3.10.4"
  },
  "vscode": {
   "interpreter": {
    "hash": "f0c636f18f7f8c5478a95196d5e93a56c7b8920526e8f2ff7a16679c1cc37438"
   }
  }
 },
 "nbformat": 4,
 "nbformat_minor": 5
}
