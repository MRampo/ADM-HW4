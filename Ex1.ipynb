{
 "cells": [
  {
   "cell_type": "code",
   "execution_count": 1,
   "metadata": {},
   "outputs": [],
   "source": [
    "import pandas as pd\n",
    "import numpy as np\n",
    "import re\n",
    "import time\n",
    "\n",
    "from datetime import datetime as dt"
   ]
  },
  {
   "cell_type": "markdown",
   "metadata": {},
   "source": [
    "### Preprocessing"
   ]
  },
  {
   "cell_type": "code",
   "execution_count": 67,
   "metadata": {},
   "outputs": [],
   "source": [
    "data = pd.read_csv(\"bank_transactions.csv\")"
   ]
  },
  {
   "cell_type": "markdown",
   "metadata": {},
   "source": [
    "Let's visualize our data"
   ]
  },
  {
   "cell_type": "code",
   "execution_count": 68,
   "metadata": {},
   "outputs": [
    {
     "data": {
      "text/html": [
       "<div>\n",
       "<style scoped>\n",
       "    .dataframe tbody tr th:only-of-type {\n",
       "        vertical-align: middle;\n",
       "    }\n",
       "\n",
       "    .dataframe tbody tr th {\n",
       "        vertical-align: top;\n",
       "    }\n",
       "\n",
       "    .dataframe thead th {\n",
       "        text-align: right;\n",
       "    }\n",
       "</style>\n",
       "<table border=\"1\" class=\"dataframe\">\n",
       "  <thead>\n",
       "    <tr style=\"text-align: right;\">\n",
       "      <th></th>\n",
       "      <th>TransactionID</th>\n",
       "      <th>CustomerID</th>\n",
       "      <th>CustomerDOB</th>\n",
       "      <th>CustGender</th>\n",
       "      <th>CustLocation</th>\n",
       "      <th>CustAccountBalance</th>\n",
       "      <th>TransactionDate</th>\n",
       "      <th>TransactionTime</th>\n",
       "      <th>TransactionAmount (INR)</th>\n",
       "    </tr>\n",
       "  </thead>\n",
       "  <tbody>\n",
       "    <tr>\n",
       "      <th>0</th>\n",
       "      <td>T1</td>\n",
       "      <td>C5841053</td>\n",
       "      <td>10/1/94</td>\n",
       "      <td>F</td>\n",
       "      <td>JAMSHEDPUR</td>\n",
       "      <td>17819.05</td>\n",
       "      <td>2/8/16</td>\n",
       "      <td>143207</td>\n",
       "      <td>25.0</td>\n",
       "    </tr>\n",
       "    <tr>\n",
       "      <th>1</th>\n",
       "      <td>T2</td>\n",
       "      <td>C2142763</td>\n",
       "      <td>4/4/57</td>\n",
       "      <td>M</td>\n",
       "      <td>JHAJJAR</td>\n",
       "      <td>2270.69</td>\n",
       "      <td>2/8/16</td>\n",
       "      <td>141858</td>\n",
       "      <td>27999.0</td>\n",
       "    </tr>\n",
       "    <tr>\n",
       "      <th>2</th>\n",
       "      <td>T3</td>\n",
       "      <td>C4417068</td>\n",
       "      <td>26/11/96</td>\n",
       "      <td>F</td>\n",
       "      <td>MUMBAI</td>\n",
       "      <td>17874.44</td>\n",
       "      <td>2/8/16</td>\n",
       "      <td>142712</td>\n",
       "      <td>459.0</td>\n",
       "    </tr>\n",
       "    <tr>\n",
       "      <th>3</th>\n",
       "      <td>T4</td>\n",
       "      <td>C5342380</td>\n",
       "      <td>14/9/73</td>\n",
       "      <td>F</td>\n",
       "      <td>MUMBAI</td>\n",
       "      <td>866503.21</td>\n",
       "      <td>2/8/16</td>\n",
       "      <td>142714</td>\n",
       "      <td>2060.0</td>\n",
       "    </tr>\n",
       "    <tr>\n",
       "      <th>4</th>\n",
       "      <td>T5</td>\n",
       "      <td>C9031234</td>\n",
       "      <td>24/3/88</td>\n",
       "      <td>F</td>\n",
       "      <td>NAVI MUMBAI</td>\n",
       "      <td>6714.43</td>\n",
       "      <td>2/8/16</td>\n",
       "      <td>181156</td>\n",
       "      <td>1762.5</td>\n",
       "    </tr>\n",
       "  </tbody>\n",
       "</table>\n",
       "</div>"
      ],
      "text/plain": [
       "  TransactionID CustomerID CustomerDOB CustGender CustLocation  \\\n",
       "0            T1   C5841053     10/1/94          F   JAMSHEDPUR   \n",
       "1            T2   C2142763      4/4/57          M      JHAJJAR   \n",
       "2            T3   C4417068    26/11/96          F       MUMBAI   \n",
       "3            T4   C5342380     14/9/73          F       MUMBAI   \n",
       "4            T5   C9031234     24/3/88          F  NAVI MUMBAI   \n",
       "\n",
       "   CustAccountBalance TransactionDate  TransactionTime  \\\n",
       "0            17819.05          2/8/16           143207   \n",
       "1             2270.69          2/8/16           141858   \n",
       "2            17874.44          2/8/16           142712   \n",
       "3           866503.21          2/8/16           142714   \n",
       "4             6714.43          2/8/16           181156   \n",
       "\n",
       "   TransactionAmount (INR)  \n",
       "0                     25.0  \n",
       "1                  27999.0  \n",
       "2                    459.0  \n",
       "3                   2060.0  \n",
       "4                   1762.5  "
      ]
     },
     "execution_count": 68,
     "metadata": {},
     "output_type": "execute_result"
    }
   ],
   "source": [
    "data.head()"
   ]
  },
  {
   "cell_type": "markdown",
   "metadata": {},
   "source": [
    "Check if we have na values and drop them if needed."
   ]
  },
  {
   "cell_type": "code",
   "execution_count": 60,
   "metadata": {},
   "outputs": [
    {
     "name": "stdout",
     "output_type": "stream",
     "text": [
      "<class 'pandas.core.frame.DataFrame'>\n",
      "Int64Index: 1041614 entries, 0 to 1048566\n",
      "Data columns (total 9 columns):\n",
      " #   Column                   Non-Null Count    Dtype  \n",
      "---  ------                   --------------    -----  \n",
      " 0   TransactionID            1041614 non-null  object \n",
      " 1   CustomerID               1041614 non-null  object \n",
      " 2   CustomerDOB              1041614 non-null  object \n",
      " 3   CustGender               1041614 non-null  object \n",
      " 4   CustLocation             1041614 non-null  object \n",
      " 5   CustAccountBalance       1041614 non-null  float64\n",
      " 6   TransactionDate          1041614 non-null  object \n",
      " 7   TransactionTime          1041614 non-null  int64  \n",
      " 8   TransactionAmount (INR)  1041614 non-null  float64\n",
      "dtypes: float64(2), int64(1), object(6)\n",
      "memory usage: 79.5+ MB\n"
     ]
    }
   ],
   "source": [
    "data.info()"
   ]
  },
  {
   "cell_type": "code",
   "execution_count": 69,
   "metadata": {},
   "outputs": [],
   "source": [
    "data.dropna(inplace=True)"
   ]
  },
  {
   "cell_type": "markdown",
   "metadata": {},
   "source": [
    "#### Convert the columns rappresenting time into, datetime format"
   ]
  },
  {
   "cell_type": "code",
   "execution_count": 72,
   "metadata": {},
   "outputs": [],
   "source": [
    "data.TransactionTime = data.TransactionTime.apply(lambda x: dt.strptime(str(x).zfill(6), '%H%M%S').hour)"
   ]
  },
  {
   "cell_type": "code",
   "execution_count": 70,
   "metadata": {},
   "outputs": [],
   "source": [
    "data.CustomerDOB = pd.to_datetime(data.CustomerDOB)"
   ]
  },
  {
   "cell_type": "code",
   "execution_count": 71,
   "metadata": {},
   "outputs": [],
   "source": [
    "data.TransactionDate = pd.to_datetime(data.TransactionDate)"
   ]
  },
  {
   "cell_type": "markdown",
   "metadata": {},
   "source": [
    "#### Let's deal with the offset people born after 2000, and the people born before 1800"
   ]
  },
  {
   "cell_type": "code",
   "execution_count": 73,
   "metadata": {},
   "outputs": [],
   "source": [
    "data.loc[data.CustomerDOB.dt.year > 2000, 'CustomerDOB'] = data.loc[data.CustomerDOB.dt.year > 2000, 'CustomerDOB'] - pd.DateOffset(years = 100)"
   ]
  },
  {
   "cell_type": "code",
   "execution_count": 74,
   "metadata": {},
   "outputs": [],
   "source": [
    "data.drop(data[data.CustomerDOB.dt.year == 1800].index, axis=0, inplace=True)"
   ]
  },
  {
   "cell_type": "code",
   "execution_count": 75,
   "metadata": {},
   "outputs": [
    {
     "data": {
      "text/html": [
       "<div>\n",
       "<style scoped>\n",
       "    .dataframe tbody tr th:only-of-type {\n",
       "        vertical-align: middle;\n",
       "    }\n",
       "\n",
       "    .dataframe tbody tr th {\n",
       "        vertical-align: top;\n",
       "    }\n",
       "\n",
       "    .dataframe thead th {\n",
       "        text-align: right;\n",
       "    }\n",
       "</style>\n",
       "<table border=\"1\" class=\"dataframe\">\n",
       "  <thead>\n",
       "    <tr style=\"text-align: right;\">\n",
       "      <th></th>\n",
       "      <th>TransactionID</th>\n",
       "      <th>CustomerID</th>\n",
       "      <th>CustomerDOB</th>\n",
       "      <th>CustGender</th>\n",
       "      <th>CustLocation</th>\n",
       "      <th>CustAccountBalance</th>\n",
       "      <th>TransactionDate</th>\n",
       "      <th>TransactionTime</th>\n",
       "      <th>TransactionAmount (INR)</th>\n",
       "    </tr>\n",
       "  </thead>\n",
       "  <tbody>\n",
       "    <tr>\n",
       "      <th>0</th>\n",
       "      <td>T1</td>\n",
       "      <td>C5841053</td>\n",
       "      <td>1994-10-01</td>\n",
       "      <td>F</td>\n",
       "      <td>JAMSHEDPUR</td>\n",
       "      <td>17819.05</td>\n",
       "      <td>2016-02-08</td>\n",
       "      <td>14</td>\n",
       "      <td>25.0</td>\n",
       "    </tr>\n",
       "    <tr>\n",
       "      <th>1</th>\n",
       "      <td>T2</td>\n",
       "      <td>C2142763</td>\n",
       "      <td>1957-04-04</td>\n",
       "      <td>M</td>\n",
       "      <td>JHAJJAR</td>\n",
       "      <td>2270.69</td>\n",
       "      <td>2016-02-08</td>\n",
       "      <td>14</td>\n",
       "      <td>27999.0</td>\n",
       "    </tr>\n",
       "    <tr>\n",
       "      <th>2</th>\n",
       "      <td>T3</td>\n",
       "      <td>C4417068</td>\n",
       "      <td>1996-11-26</td>\n",
       "      <td>F</td>\n",
       "      <td>MUMBAI</td>\n",
       "      <td>17874.44</td>\n",
       "      <td>2016-02-08</td>\n",
       "      <td>14</td>\n",
       "      <td>459.0</td>\n",
       "    </tr>\n",
       "    <tr>\n",
       "      <th>3</th>\n",
       "      <td>T4</td>\n",
       "      <td>C5342380</td>\n",
       "      <td>1973-09-14</td>\n",
       "      <td>F</td>\n",
       "      <td>MUMBAI</td>\n",
       "      <td>866503.21</td>\n",
       "      <td>2016-02-08</td>\n",
       "      <td>14</td>\n",
       "      <td>2060.0</td>\n",
       "    </tr>\n",
       "    <tr>\n",
       "      <th>4</th>\n",
       "      <td>T5</td>\n",
       "      <td>C9031234</td>\n",
       "      <td>1988-03-24</td>\n",
       "      <td>F</td>\n",
       "      <td>NAVI MUMBAI</td>\n",
       "      <td>6714.43</td>\n",
       "      <td>2016-02-08</td>\n",
       "      <td>18</td>\n",
       "      <td>1762.5</td>\n",
       "    </tr>\n",
       "  </tbody>\n",
       "</table>\n",
       "</div>"
      ],
      "text/plain": [
       "  TransactionID CustomerID CustomerDOB CustGender CustLocation  \\\n",
       "0            T1   C5841053  1994-10-01          F   JAMSHEDPUR   \n",
       "1            T2   C2142763  1957-04-04          M      JHAJJAR   \n",
       "2            T3   C4417068  1996-11-26          F       MUMBAI   \n",
       "3            T4   C5342380  1973-09-14          F       MUMBAI   \n",
       "4            T5   C9031234  1988-03-24          F  NAVI MUMBAI   \n",
       "\n",
       "   CustAccountBalance TransactionDate  TransactionTime  \\\n",
       "0            17819.05      2016-02-08               14   \n",
       "1             2270.69      2016-02-08               14   \n",
       "2            17874.44      2016-02-08               14   \n",
       "3           866503.21      2016-02-08               14   \n",
       "4             6714.43      2016-02-08               18   \n",
       "\n",
       "   TransactionAmount (INR)  \n",
       "0                     25.0  \n",
       "1                  27999.0  \n",
       "2                    459.0  \n",
       "3                   2060.0  \n",
       "4                   1762.5  "
      ]
     },
     "execution_count": 75,
     "metadata": {},
     "output_type": "execute_result"
    }
   ],
   "source": [
    "data.head()"
   ]
  },
  {
   "cell_type": "code",
   "execution_count": 78,
   "metadata": {},
   "outputs": [],
   "source": [
    "data.TransactionDate = data.TransactionDate.apply(lambda x: x.to_period('M'))"
   ]
  },
  {
   "cell_type": "code",
   "execution_count": null,
   "metadata": {},
   "outputs": [],
   "source": []
  },
  {
   "cell_type": "markdown",
   "metadata": {},
   "source": [
    "### I don't need all the columns in this datam"
   ]
  },
  {
   "cell_type": "code",
   "execution_count": 79,
   "metadata": {},
   "outputs": [],
   "source": [
    "def cleaning(text):\n",
    "    text = re.sub(r'[^\\w\\s]','',text)\n",
    "    tokens = text.lower()\n",
    "    tokens = tokens.split()\n",
    "    return tokens"
   ]
  },
  {
   "cell_type": "code",
   "execution_count": 161,
   "metadata": {},
   "outputs": [],
   "source": [
    "data2 = data.iloc[:, 1:]"
   ]
  },
  {
   "cell_type": "code",
   "execution_count": 162,
   "metadata": {},
   "outputs": [],
   "source": [
    "data2.drop(['CustGender'], axis = 1, inplace=True)"
   ]
  },
  {
   "cell_type": "code",
   "execution_count": 163,
   "metadata": {},
   "outputs": [
    {
     "data": {
      "text/html": [
       "<div>\n",
       "<style scoped>\n",
       "    .dataframe tbody tr th:only-of-type {\n",
       "        vertical-align: middle;\n",
       "    }\n",
       "\n",
       "    .dataframe tbody tr th {\n",
       "        vertical-align: top;\n",
       "    }\n",
       "\n",
       "    .dataframe thead th {\n",
       "        text-align: right;\n",
       "    }\n",
       "</style>\n",
       "<table border=\"1\" class=\"dataframe\">\n",
       "  <thead>\n",
       "    <tr style=\"text-align: right;\">\n",
       "      <th></th>\n",
       "      <th>CustomerID</th>\n",
       "      <th>CustomerDOB</th>\n",
       "      <th>CustLocation</th>\n",
       "      <th>CustAccountBalance</th>\n",
       "      <th>TransactionDate</th>\n",
       "      <th>TransactionTime</th>\n",
       "      <th>TransactionAmount (INR)</th>\n",
       "    </tr>\n",
       "  </thead>\n",
       "  <tbody>\n",
       "    <tr>\n",
       "      <th>0</th>\n",
       "      <td>C5841053</td>\n",
       "      <td>1994-10-01</td>\n",
       "      <td>JAMSHEDPUR</td>\n",
       "      <td>17819.05</td>\n",
       "      <td>2016-02</td>\n",
       "      <td>14</td>\n",
       "      <td>25.0</td>\n",
       "    </tr>\n",
       "    <tr>\n",
       "      <th>1</th>\n",
       "      <td>C2142763</td>\n",
       "      <td>1957-04-04</td>\n",
       "      <td>JHAJJAR</td>\n",
       "      <td>2270.69</td>\n",
       "      <td>2016-02</td>\n",
       "      <td>14</td>\n",
       "      <td>27999.0</td>\n",
       "    </tr>\n",
       "    <tr>\n",
       "      <th>2</th>\n",
       "      <td>C4417068</td>\n",
       "      <td>1996-11-26</td>\n",
       "      <td>MUMBAI</td>\n",
       "      <td>17874.44</td>\n",
       "      <td>2016-02</td>\n",
       "      <td>14</td>\n",
       "      <td>459.0</td>\n",
       "    </tr>\n",
       "    <tr>\n",
       "      <th>3</th>\n",
       "      <td>C5342380</td>\n",
       "      <td>1973-09-14</td>\n",
       "      <td>MUMBAI</td>\n",
       "      <td>866503.21</td>\n",
       "      <td>2016-02</td>\n",
       "      <td>14</td>\n",
       "      <td>2060.0</td>\n",
       "    </tr>\n",
       "    <tr>\n",
       "      <th>4</th>\n",
       "      <td>C9031234</td>\n",
       "      <td>1988-03-24</td>\n",
       "      <td>NAVI MUMBAI</td>\n",
       "      <td>6714.43</td>\n",
       "      <td>2016-02</td>\n",
       "      <td>18</td>\n",
       "      <td>1762.5</td>\n",
       "    </tr>\n",
       "  </tbody>\n",
       "</table>\n",
       "</div>"
      ],
      "text/plain": [
       "  CustomerID CustomerDOB CustLocation  CustAccountBalance TransactionDate  \\\n",
       "0   C5841053  1994-10-01   JAMSHEDPUR            17819.05         2016-02   \n",
       "1   C2142763  1957-04-04      JHAJJAR             2270.69         2016-02   \n",
       "2   C4417068  1996-11-26       MUMBAI            17874.44         2016-02   \n",
       "3   C5342380  1973-09-14       MUMBAI           866503.21         2016-02   \n",
       "4   C9031234  1988-03-24  NAVI MUMBAI             6714.43         2016-02   \n",
       "\n",
       "   TransactionTime  TransactionAmount (INR)  \n",
       "0               14                     25.0  \n",
       "1               14                  27999.0  \n",
       "2               14                    459.0  \n",
       "3               14                   2060.0  \n",
       "4               18                   1762.5  "
      ]
     },
     "execution_count": 163,
     "metadata": {},
     "output_type": "execute_result"
    }
   ],
   "source": [
    "data2.head()"
   ]
  },
  {
   "cell_type": "markdown",
   "metadata": {},
   "source": [
    "## Place the numeric variable in a range of values"
   ]
  },
  {
   "cell_type": "code",
   "execution_count": 164,
   "metadata": {},
   "outputs": [],
   "source": [
    "data2.rename(columns = {\"TransactionAmount (INR)\": \"TransactionAmount_INR\"}, inplace = True)"
   ]
  },
  {
   "cell_type": "code",
   "execution_count": 165,
   "metadata": {},
   "outputs": [],
   "source": [
    "n1 = data2.CustAccountBalance.max()/100\n",
    "n2 = data2.TransactionAmount_INR.max()/100"
   ]
  },
  {
   "cell_type": "code",
   "execution_count": 166,
   "metadata": {},
   "outputs": [
    {
     "data": {
      "text/html": [
       "<div>\n",
       "<style scoped>\n",
       "    .dataframe tbody tr th:only-of-type {\n",
       "        vertical-align: middle;\n",
       "    }\n",
       "\n",
       "    .dataframe tbody tr th {\n",
       "        vertical-align: top;\n",
       "    }\n",
       "\n",
       "    .dataframe thead th {\n",
       "        text-align: right;\n",
       "    }\n",
       "</style>\n",
       "<table border=\"1\" class=\"dataframe\">\n",
       "  <thead>\n",
       "    <tr style=\"text-align: right;\">\n",
       "      <th></th>\n",
       "      <th>CustomerID</th>\n",
       "      <th>CustomerDOB</th>\n",
       "      <th>CustLocation</th>\n",
       "      <th>CustAccountBalance</th>\n",
       "      <th>TransactionDate</th>\n",
       "      <th>TransactionTime</th>\n",
       "      <th>TransactionAmount_INR</th>\n",
       "    </tr>\n",
       "  </thead>\n",
       "  <tbody>\n",
       "    <tr>\n",
       "      <th>0</th>\n",
       "      <td>C5841053</td>\n",
       "      <td>1994-10-01</td>\n",
       "      <td>JAMSHEDPUR</td>\n",
       "      <td>17819.05</td>\n",
       "      <td>2016-02</td>\n",
       "      <td>14</td>\n",
       "      <td>25.0</td>\n",
       "    </tr>\n",
       "    <tr>\n",
       "      <th>1</th>\n",
       "      <td>C2142763</td>\n",
       "      <td>1957-04-04</td>\n",
       "      <td>JHAJJAR</td>\n",
       "      <td>2270.69</td>\n",
       "      <td>2016-02</td>\n",
       "      <td>14</td>\n",
       "      <td>27999.0</td>\n",
       "    </tr>\n",
       "    <tr>\n",
       "      <th>2</th>\n",
       "      <td>C4417068</td>\n",
       "      <td>1996-11-26</td>\n",
       "      <td>MUMBAI</td>\n",
       "      <td>17874.44</td>\n",
       "      <td>2016-02</td>\n",
       "      <td>14</td>\n",
       "      <td>459.0</td>\n",
       "    </tr>\n",
       "    <tr>\n",
       "      <th>3</th>\n",
       "      <td>C5342380</td>\n",
       "      <td>1973-09-14</td>\n",
       "      <td>MUMBAI</td>\n",
       "      <td>866503.21</td>\n",
       "      <td>2016-02</td>\n",
       "      <td>14</td>\n",
       "      <td>2060.0</td>\n",
       "    </tr>\n",
       "    <tr>\n",
       "      <th>4</th>\n",
       "      <td>C9031234</td>\n",
       "      <td>1988-03-24</td>\n",
       "      <td>NAVI MUMBAI</td>\n",
       "      <td>6714.43</td>\n",
       "      <td>2016-02</td>\n",
       "      <td>18</td>\n",
       "      <td>1762.5</td>\n",
       "    </tr>\n",
       "  </tbody>\n",
       "</table>\n",
       "</div>"
      ],
      "text/plain": [
       "  CustomerID CustomerDOB CustLocation  CustAccountBalance TransactionDate  \\\n",
       "0   C5841053  1994-10-01   JAMSHEDPUR            17819.05         2016-02   \n",
       "1   C2142763  1957-04-04      JHAJJAR             2270.69         2016-02   \n",
       "2   C4417068  1996-11-26       MUMBAI            17874.44         2016-02   \n",
       "3   C5342380  1973-09-14       MUMBAI           866503.21         2016-02   \n",
       "4   C9031234  1988-03-24  NAVI MUMBAI             6714.43         2016-02   \n",
       "\n",
       "   TransactionTime  TransactionAmount_INR  \n",
       "0               14                   25.0  \n",
       "1               14                27999.0  \n",
       "2               14                  459.0  \n",
       "3               14                 2060.0  \n",
       "4               18                 1762.5  "
      ]
     },
     "execution_count": 166,
     "metadata": {},
     "output_type": "execute_result"
    }
   ],
   "source": [
    "data2.head()"
   ]
  },
  {
   "cell_type": "code",
   "execution_count": 167,
   "metadata": {},
   "outputs": [],
   "source": [
    "a = np.quantile(data2.CustAccountBalance, np.arange(0,1,0.1))\n",
    "#, axis=None, out=None, overwrite_input=False, method='linear', keepdims=False, *, interpolation=None)"
   ]
  },
  {
   "cell_type": "code",
   "execution_count": 168,
   "metadata": {},
   "outputs": [],
   "source": [
    "a = a.tolist()"
   ]
  },
  {
   "cell_type": "code",
   "execution_count": 169,
   "metadata": {},
   "outputs": [],
   "source": [
    "a = list(map(int, a))"
   ]
  },
  {
   "cell_type": "code",
   "execution_count": 170,
   "metadata": {},
   "outputs": [],
   "source": [
    "a.append(data2.CustAccountBalance.max())"
   ]
  },
  {
   "cell_type": "code",
   "execution_count": 171,
   "metadata": {},
   "outputs": [],
   "source": [
    "a = list(map(int, a))"
   ]
  },
  {
   "cell_type": "code",
   "execution_count": 172,
   "metadata": {},
   "outputs": [],
   "source": [
    "a.remove(0)"
   ]
  },
  {
   "cell_type": "code",
   "execution_count": 173,
   "metadata": {},
   "outputs": [
    {
     "data": {
      "text/plain": [
       "[478, 3013, 6303, 10447, 16006, 24977, 40429, 73611, 181250, 115035495]"
      ]
     },
     "execution_count": 173,
     "metadata": {},
     "output_type": "execute_result"
    }
   ],
   "source": [
    "a"
   ]
  },
  {
   "cell_type": "code",
   "execution_count": 174,
   "metadata": {},
   "outputs": [],
   "source": [
    "bins = pd.qcut(data2.CustAccountBalance, 10, retbins = True, duplicates = 'drop',labels=False)\n"
   ]
  },
  {
   "cell_type": "code",
   "execution_count": 175,
   "metadata": {},
   "outputs": [],
   "source": [
    "data2.CustAccountBalance = bins[0]"
   ]
  },
  {
   "cell_type": "code",
   "execution_count": 176,
   "metadata": {},
   "outputs": [],
   "source": [
    "data2.CustAccountBalance = data2.CustAccountBalance.apply(lambda x :  a[x])"
   ]
  },
  {
   "cell_type": "code",
   "execution_count": 177,
   "metadata": {},
   "outputs": [
    {
     "data": {
      "text/html": [
       "<div>\n",
       "<style scoped>\n",
       "    .dataframe tbody tr th:only-of-type {\n",
       "        vertical-align: middle;\n",
       "    }\n",
       "\n",
       "    .dataframe tbody tr th {\n",
       "        vertical-align: top;\n",
       "    }\n",
       "\n",
       "    .dataframe thead th {\n",
       "        text-align: right;\n",
       "    }\n",
       "</style>\n",
       "<table border=\"1\" class=\"dataframe\">\n",
       "  <thead>\n",
       "    <tr style=\"text-align: right;\">\n",
       "      <th></th>\n",
       "      <th>CustomerID</th>\n",
       "      <th>CustomerDOB</th>\n",
       "      <th>CustLocation</th>\n",
       "      <th>CustAccountBalance</th>\n",
       "      <th>TransactionDate</th>\n",
       "      <th>TransactionTime</th>\n",
       "      <th>TransactionAmount_INR</th>\n",
       "    </tr>\n",
       "  </thead>\n",
       "  <tbody>\n",
       "    <tr>\n",
       "      <th>0</th>\n",
       "      <td>C5841053</td>\n",
       "      <td>1994-10-01</td>\n",
       "      <td>JAMSHEDPUR</td>\n",
       "      <td>24977</td>\n",
       "      <td>2016-02</td>\n",
       "      <td>14</td>\n",
       "      <td>25.0</td>\n",
       "    </tr>\n",
       "    <tr>\n",
       "      <th>1</th>\n",
       "      <td>C2142763</td>\n",
       "      <td>1957-04-04</td>\n",
       "      <td>JHAJJAR</td>\n",
       "      <td>3013</td>\n",
       "      <td>2016-02</td>\n",
       "      <td>14</td>\n",
       "      <td>27999.0</td>\n",
       "    </tr>\n",
       "    <tr>\n",
       "      <th>2</th>\n",
       "      <td>C4417068</td>\n",
       "      <td>1996-11-26</td>\n",
       "      <td>MUMBAI</td>\n",
       "      <td>24977</td>\n",
       "      <td>2016-02</td>\n",
       "      <td>14</td>\n",
       "      <td>459.0</td>\n",
       "    </tr>\n",
       "    <tr>\n",
       "      <th>3</th>\n",
       "      <td>C5342380</td>\n",
       "      <td>1973-09-14</td>\n",
       "      <td>MUMBAI</td>\n",
       "      <td>115035495</td>\n",
       "      <td>2016-02</td>\n",
       "      <td>14</td>\n",
       "      <td>2060.0</td>\n",
       "    </tr>\n",
       "    <tr>\n",
       "      <th>4</th>\n",
       "      <td>C9031234</td>\n",
       "      <td>1988-03-24</td>\n",
       "      <td>NAVI MUMBAI</td>\n",
       "      <td>10447</td>\n",
       "      <td>2016-02</td>\n",
       "      <td>18</td>\n",
       "      <td>1762.5</td>\n",
       "    </tr>\n",
       "  </tbody>\n",
       "</table>\n",
       "</div>"
      ],
      "text/plain": [
       "  CustomerID CustomerDOB CustLocation  CustAccountBalance TransactionDate  \\\n",
       "0   C5841053  1994-10-01   JAMSHEDPUR               24977         2016-02   \n",
       "1   C2142763  1957-04-04      JHAJJAR                3013         2016-02   \n",
       "2   C4417068  1996-11-26       MUMBAI               24977         2016-02   \n",
       "3   C5342380  1973-09-14       MUMBAI           115035495         2016-02   \n",
       "4   C9031234  1988-03-24  NAVI MUMBAI               10447         2016-02   \n",
       "\n",
       "   TransactionTime  TransactionAmount_INR  \n",
       "0               14                   25.0  \n",
       "1               14                27999.0  \n",
       "2               14                  459.0  \n",
       "3               14                 2060.0  \n",
       "4               18                 1762.5  "
      ]
     },
     "execution_count": 177,
     "metadata": {},
     "output_type": "execute_result"
    }
   ],
   "source": [
    "data2.head()"
   ]
  },
  {
   "cell_type": "code",
   "execution_count": 178,
   "metadata": {},
   "outputs": [],
   "source": [
    "bins = pd.qcut(data2.TransactionAmount_INR, 10, retbins = True, duplicates = 'drop',labels=False)\n"
   ]
  },
  {
   "cell_type": "code",
   "execution_count": 179,
   "metadata": {},
   "outputs": [],
   "source": [
    "a = np.quantile(data2.TransactionAmount_INR, np.arange(0,1,0.1))"
   ]
  },
  {
   "cell_type": "code",
   "execution_count": 180,
   "metadata": {},
   "outputs": [],
   "source": [
    "a = list(map(int, a))\n"
   ]
  },
  {
   "cell_type": "code",
   "execution_count": 181,
   "metadata": {},
   "outputs": [],
   "source": [
    "a.remove(0)"
   ]
  },
  {
   "cell_type": "code",
   "execution_count": 182,
   "metadata": {},
   "outputs": [],
   "source": [
    "a.append(data2.TransactionAmount_INR.max())"
   ]
  },
  {
   "cell_type": "code",
   "execution_count": 183,
   "metadata": {},
   "outputs": [],
   "source": [
    "data2.TransactionAmount_INR = bins[0]"
   ]
  },
  {
   "cell_type": "code",
   "execution_count": 184,
   "metadata": {},
   "outputs": [],
   "source": [
    "data2.TransactionAmount_INR = data2.TransactionAmount_INR.apply(lambda x :  a[x])"
   ]
  },
  {
   "cell_type": "code",
   "execution_count": 185,
   "metadata": {},
   "outputs": [
    {
     "data": {
      "text/html": [
       "<div>\n",
       "<style scoped>\n",
       "    .dataframe tbody tr th:only-of-type {\n",
       "        vertical-align: middle;\n",
       "    }\n",
       "\n",
       "    .dataframe tbody tr th {\n",
       "        vertical-align: top;\n",
       "    }\n",
       "\n",
       "    .dataframe thead th {\n",
       "        text-align: right;\n",
       "    }\n",
       "</style>\n",
       "<table border=\"1\" class=\"dataframe\">\n",
       "  <thead>\n",
       "    <tr style=\"text-align: right;\">\n",
       "      <th></th>\n",
       "      <th>TransactionID</th>\n",
       "      <th>CustomerID</th>\n",
       "      <th>CustomerDOB</th>\n",
       "      <th>CustGender</th>\n",
       "      <th>CustLocation</th>\n",
       "      <th>CustAccountBalance</th>\n",
       "      <th>TransactionDate</th>\n",
       "      <th>TransactionTime</th>\n",
       "      <th>TransactionAmount (INR)</th>\n",
       "    </tr>\n",
       "  </thead>\n",
       "  <tbody>\n",
       "    <tr>\n",
       "      <th>0</th>\n",
       "      <td>T1</td>\n",
       "      <td>C5841053</td>\n",
       "      <td>1994-10-01</td>\n",
       "      <td>F</td>\n",
       "      <td>JAMSHEDPUR</td>\n",
       "      <td>17819.05</td>\n",
       "      <td>2016-02</td>\n",
       "      <td>14</td>\n",
       "      <td>25.0</td>\n",
       "    </tr>\n",
       "    <tr>\n",
       "      <th>1</th>\n",
       "      <td>T2</td>\n",
       "      <td>C2142763</td>\n",
       "      <td>1957-04-04</td>\n",
       "      <td>M</td>\n",
       "      <td>JHAJJAR</td>\n",
       "      <td>2270.69</td>\n",
       "      <td>2016-02</td>\n",
       "      <td>14</td>\n",
       "      <td>27999.0</td>\n",
       "    </tr>\n",
       "    <tr>\n",
       "      <th>2</th>\n",
       "      <td>T3</td>\n",
       "      <td>C4417068</td>\n",
       "      <td>1996-11-26</td>\n",
       "      <td>F</td>\n",
       "      <td>MUMBAI</td>\n",
       "      <td>17874.44</td>\n",
       "      <td>2016-02</td>\n",
       "      <td>14</td>\n",
       "      <td>459.0</td>\n",
       "    </tr>\n",
       "    <tr>\n",
       "      <th>3</th>\n",
       "      <td>T4</td>\n",
       "      <td>C5342380</td>\n",
       "      <td>1973-09-14</td>\n",
       "      <td>F</td>\n",
       "      <td>MUMBAI</td>\n",
       "      <td>866503.21</td>\n",
       "      <td>2016-02</td>\n",
       "      <td>14</td>\n",
       "      <td>2060.0</td>\n",
       "    </tr>\n",
       "    <tr>\n",
       "      <th>4</th>\n",
       "      <td>T5</td>\n",
       "      <td>C9031234</td>\n",
       "      <td>1988-03-24</td>\n",
       "      <td>F</td>\n",
       "      <td>NAVI MUMBAI</td>\n",
       "      <td>6714.43</td>\n",
       "      <td>2016-02</td>\n",
       "      <td>18</td>\n",
       "      <td>1762.5</td>\n",
       "    </tr>\n",
       "  </tbody>\n",
       "</table>\n",
       "</div>"
      ],
      "text/plain": [
       "  TransactionID CustomerID CustomerDOB CustGender CustLocation  \\\n",
       "0            T1   C5841053  1994-10-01          F   JAMSHEDPUR   \n",
       "1            T2   C2142763  1957-04-04          M      JHAJJAR   \n",
       "2            T3   C4417068  1996-11-26          F       MUMBAI   \n",
       "3            T4   C5342380  1973-09-14          F       MUMBAI   \n",
       "4            T5   C9031234  1988-03-24          F  NAVI MUMBAI   \n",
       "\n",
       "   CustAccountBalance TransactionDate  TransactionTime  \\\n",
       "0            17819.05         2016-02               14   \n",
       "1             2270.69         2016-02               14   \n",
       "2            17874.44         2016-02               14   \n",
       "3           866503.21         2016-02               14   \n",
       "4             6714.43         2016-02               18   \n",
       "\n",
       "   TransactionAmount (INR)  \n",
       "0                     25.0  \n",
       "1                  27999.0  \n",
       "2                    459.0  \n",
       "3                   2060.0  \n",
       "4                   1762.5  "
      ]
     },
     "execution_count": 185,
     "metadata": {},
     "output_type": "execute_result"
    }
   ],
   "source": [
    "data.head()"
   ]
  },
  {
   "cell_type": "markdown",
   "metadata": {},
   "source": [
    "#### Find the age of each customer and put them in a range of values"
   ]
  },
  {
   "cell_type": "code",
   "execution_count": 188,
   "metadata": {},
   "outputs": [],
   "source": [
    "bins = pd.qcut(data2.CustomerDOB, 4, retbins = True, duplicates = 'drop',labels=False)\n"
   ]
  },
  {
   "cell_type": "code",
   "execution_count": 190,
   "metadata": {},
   "outputs": [],
   "source": [
    "data2.CustomerDOB = data2.CustomerDOB.apply(lambda x: 2022 - x.year)"
   ]
  },
  {
   "cell_type": "code",
   "execution_count": 191,
   "metadata": {},
   "outputs": [
    {
     "data": {
      "text/html": [
       "<div>\n",
       "<style scoped>\n",
       "    .dataframe tbody tr th:only-of-type {\n",
       "        vertical-align: middle;\n",
       "    }\n",
       "\n",
       "    .dataframe tbody tr th {\n",
       "        vertical-align: top;\n",
       "    }\n",
       "\n",
       "    .dataframe thead th {\n",
       "        text-align: right;\n",
       "    }\n",
       "</style>\n",
       "<table border=\"1\" class=\"dataframe\">\n",
       "  <thead>\n",
       "    <tr style=\"text-align: right;\">\n",
       "      <th></th>\n",
       "      <th>CustomerID</th>\n",
       "      <th>CustomerDOB</th>\n",
       "      <th>CustLocation</th>\n",
       "      <th>CustAccountBalance</th>\n",
       "      <th>TransactionDate</th>\n",
       "      <th>TransactionTime</th>\n",
       "      <th>TransactionAmount_INR</th>\n",
       "    </tr>\n",
       "  </thead>\n",
       "  <tbody>\n",
       "    <tr>\n",
       "      <th>0</th>\n",
       "      <td>C5841053</td>\n",
       "      <td>28</td>\n",
       "      <td>JAMSHEDPUR</td>\n",
       "      <td>24977</td>\n",
       "      <td>2016-02</td>\n",
       "      <td>14</td>\n",
       "      <td>50.00</td>\n",
       "    </tr>\n",
       "    <tr>\n",
       "      <th>1</th>\n",
       "      <td>C2142763</td>\n",
       "      <td>65</td>\n",
       "      <td>JHAJJAR</td>\n",
       "      <td>3013</td>\n",
       "      <td>2016-02</td>\n",
       "      <td>14</td>\n",
       "      <td>1560034.99</td>\n",
       "    </tr>\n",
       "    <tr>\n",
       "      <th>2</th>\n",
       "      <td>C4417068</td>\n",
       "      <td>26</td>\n",
       "      <td>MUMBAI</td>\n",
       "      <td>24977</td>\n",
       "      <td>2016-02</td>\n",
       "      <td>14</td>\n",
       "      <td>600.00</td>\n",
       "    </tr>\n",
       "    <tr>\n",
       "      <th>3</th>\n",
       "      <td>C5342380</td>\n",
       "      <td>49</td>\n",
       "      <td>MUMBAI</td>\n",
       "      <td>115035495</td>\n",
       "      <td>2016-02</td>\n",
       "      <td>14</td>\n",
       "      <td>2751.00</td>\n",
       "    </tr>\n",
       "    <tr>\n",
       "      <th>4</th>\n",
       "      <td>C9031234</td>\n",
       "      <td>34</td>\n",
       "      <td>NAVI MUMBAI</td>\n",
       "      <td>10447</td>\n",
       "      <td>2016-02</td>\n",
       "      <td>18</td>\n",
       "      <td>2751.00</td>\n",
       "    </tr>\n",
       "  </tbody>\n",
       "</table>\n",
       "</div>"
      ],
      "text/plain": [
       "  CustomerID  CustomerDOB CustLocation  CustAccountBalance TransactionDate  \\\n",
       "0   C5841053           28   JAMSHEDPUR               24977         2016-02   \n",
       "1   C2142763           65      JHAJJAR                3013         2016-02   \n",
       "2   C4417068           26       MUMBAI               24977         2016-02   \n",
       "3   C5342380           49       MUMBAI           115035495         2016-02   \n",
       "4   C9031234           34  NAVI MUMBAI               10447         2016-02   \n",
       "\n",
       "   TransactionTime  TransactionAmount_INR  \n",
       "0               14                  50.00  \n",
       "1               14             1560034.99  \n",
       "2               14                 600.00  \n",
       "3               14                2751.00  \n",
       "4               18                2751.00  "
      ]
     },
     "execution_count": 191,
     "metadata": {},
     "output_type": "execute_result"
    }
   ],
   "source": [
    "data2.head()"
   ]
  },
  {
   "cell_type": "code",
   "execution_count": 192,
   "metadata": {},
   "outputs": [],
   "source": [
    "range1 = np.quantile(data2.CustomerDOB, np.arange(0,1,0.25))"
   ]
  },
  {
   "cell_type": "code",
   "execution_count": 193,
   "metadata": {},
   "outputs": [],
   "source": [
    "range1 = list(map(int, range1))\n",
    "range1.append(data2.CustomerDOB.max())"
   ]
  },
  {
   "cell_type": "code",
   "execution_count": 194,
   "metadata": {},
   "outputs": [],
   "source": [
    "data2.CustomerDOB = bins[0]"
   ]
  },
  {
   "cell_type": "code",
   "execution_count": 195,
   "metadata": {},
   "outputs": [],
   "source": [
    "data2.CustomerDOB = data2.CustomerDOB.apply(lambda x :  range1[x])"
   ]
  },
  {
   "cell_type": "code",
   "execution_count": 196,
   "metadata": {},
   "outputs": [
    {
     "data": {
      "text/html": [
       "<div>\n",
       "<style scoped>\n",
       "    .dataframe tbody tr th:only-of-type {\n",
       "        vertical-align: middle;\n",
       "    }\n",
       "\n",
       "    .dataframe tbody tr th {\n",
       "        vertical-align: top;\n",
       "    }\n",
       "\n",
       "    .dataframe thead th {\n",
       "        text-align: right;\n",
       "    }\n",
       "</style>\n",
       "<table border=\"1\" class=\"dataframe\">\n",
       "  <thead>\n",
       "    <tr style=\"text-align: right;\">\n",
       "      <th></th>\n",
       "      <th>CustomerID</th>\n",
       "      <th>CustomerDOB</th>\n",
       "      <th>CustLocation</th>\n",
       "      <th>CustAccountBalance</th>\n",
       "      <th>TransactionDate</th>\n",
       "      <th>TransactionTime</th>\n",
       "      <th>TransactionAmount_INR</th>\n",
       "    </tr>\n",
       "  </thead>\n",
       "  <tbody>\n",
       "    <tr>\n",
       "      <th>0</th>\n",
       "      <td>C5841053</td>\n",
       "      <td>40</td>\n",
       "      <td>JAMSHEDPUR</td>\n",
       "      <td>24977</td>\n",
       "      <td>2016-02</td>\n",
       "      <td>14</td>\n",
       "      <td>50.00</td>\n",
       "    </tr>\n",
       "    <tr>\n",
       "      <th>1</th>\n",
       "      <td>C2142763</td>\n",
       "      <td>22</td>\n",
       "      <td>JHAJJAR</td>\n",
       "      <td>3013</td>\n",
       "      <td>2016-02</td>\n",
       "      <td>14</td>\n",
       "      <td>1560034.99</td>\n",
       "    </tr>\n",
       "    <tr>\n",
       "      <th>2</th>\n",
       "      <td>C4417068</td>\n",
       "      <td>40</td>\n",
       "      <td>MUMBAI</td>\n",
       "      <td>24977</td>\n",
       "      <td>2016-02</td>\n",
       "      <td>14</td>\n",
       "      <td>600.00</td>\n",
       "    </tr>\n",
       "    <tr>\n",
       "      <th>3</th>\n",
       "      <td>C5342380</td>\n",
       "      <td>22</td>\n",
       "      <td>MUMBAI</td>\n",
       "      <td>115035495</td>\n",
       "      <td>2016-02</td>\n",
       "      <td>14</td>\n",
       "      <td>2751.00</td>\n",
       "    </tr>\n",
       "    <tr>\n",
       "      <th>4</th>\n",
       "      <td>C9031234</td>\n",
       "      <td>35</td>\n",
       "      <td>NAVI MUMBAI</td>\n",
       "      <td>10447</td>\n",
       "      <td>2016-02</td>\n",
       "      <td>18</td>\n",
       "      <td>2751.00</td>\n",
       "    </tr>\n",
       "  </tbody>\n",
       "</table>\n",
       "</div>"
      ],
      "text/plain": [
       "  CustomerID  CustomerDOB CustLocation  CustAccountBalance TransactionDate  \\\n",
       "0   C5841053           40   JAMSHEDPUR               24977         2016-02   \n",
       "1   C2142763           22      JHAJJAR                3013         2016-02   \n",
       "2   C4417068           40       MUMBAI               24977         2016-02   \n",
       "3   C5342380           22       MUMBAI           115035495         2016-02   \n",
       "4   C9031234           35  NAVI MUMBAI               10447         2016-02   \n",
       "\n",
       "   TransactionTime  TransactionAmount_INR  \n",
       "0               14                  50.00  \n",
       "1               14             1560034.99  \n",
       "2               14                 600.00  \n",
       "3               14                2751.00  \n",
       "4               18                2751.00  "
      ]
     },
     "execution_count": 196,
     "metadata": {},
     "output_type": "execute_result"
    }
   ],
   "source": [
    "data2.head()"
   ]
  },
  {
   "cell_type": "code",
   "execution_count": 198,
   "metadata": {},
   "outputs": [],
   "source": [
    "data3 = data2.iloc[:,1:]"
   ]
  },
  {
   "cell_type": "markdown",
   "metadata": {},
   "source": [
    "let's create a new column with the joined string of all previous columns"
   ]
  },
  {
   "cell_type": "code",
   "execution_count": 202,
   "metadata": {},
   "outputs": [],
   "source": [
    "data3['joined_data'] = data3[data3.columns[:]].apply(\n",
    "    lambda x: ' '.join(x.astype(str)),\n",
    "    axis=1\n",
    ")\n",
    "#Time that it took: \n",
    "#around 4m"
   ]
  },
  {
   "cell_type": "markdown",
   "metadata": {},
   "source": [
    "Let's clean the column \"joined_data\" and convert them into list"
   ]
  },
  {
   "cell_type": "code",
   "execution_count": null,
   "metadata": {},
   "outputs": [],
   "source": [
    "#Clean the data that i'm going to use\n",
    "data3[\"joined_data\"] = data3[\"joined_data\"].apply(lambda x: cleaning(x)\n",
    "data3.joined_data = data3.joined_data.apply(lambda x: x[:6])"
   ]
  },
  {
   "attachments": {},
   "cell_type": "markdown",
   "metadata": {},
   "source": [
    "#### Prepare the data to put inside Count vectorizer, that we are going to use to create the sparse matrix of zero and ones."
   ]
  },
  {
   "cell_type": "code",
   "execution_count": 212,
   "metadata": {},
   "outputs": [],
   "source": [
    "#String containing all the words inside the column \"joined_string\"\n",
    "string_data = [\" \".join(lst) for lst in data3.joined_data]"
   ]
  },
  {
   "cell_type": "code",
   "execution_count": 213,
   "metadata": {},
   "outputs": [],
   "source": [
    "#importing libraries\n",
    "from sklearn.feature_extraction.text import CountVectorizer\n",
    "from sklearn.preprocessing import binarize\n"
   ]
  },
  {
   "cell_type": "code",
   "execution_count": 214,
   "metadata": {},
   "outputs": [
    {
     "data": {
      "text/plain": [
       "(985322, 5958)"
      ]
     },
     "execution_count": 214,
     "metadata": {},
     "output_type": "execute_result"
    }
   ],
   "source": [
    "#Create CountVectorizer object\n",
    "vectorizer = CountVectorizer(binary=True)\n",
    "vectorizer.fit(string_data)\n",
    "\n",
    "#Create the matrix based on our string data\n",
    "matrix = vectorizer.transform(string_data)\n",
    "\n",
    "#Binarize the data\n",
    "x = binarize(matrix) \n",
    "matrix.astype(np.int8)\n",
    "\n",
    "#Print the shape\n",
    "matrix.shape\n",
    "\n",
    "#take shape[0]\n",
    "shape0 = matrix.shape[0]\n",
    "\n",
    "#take shape[1]\n",
    "shape1 = matrix.shape[1]"
   ]
  },
  {
   "attachments": {},
   "cell_type": "markdown",
   "metadata": {},
   "source": [
    "Right now we have for columns the words and each rows rappresenting each customers, we want the opposite to we transpose the matrix"
   ]
  },
  {
   "cell_type": "code",
   "execution_count": 215,
   "metadata": {},
   "outputs": [
    {
     "data": {
      "text/plain": [
       "(5958, 985322)"
      ]
     },
     "execution_count": 215,
     "metadata": {},
     "output_type": "execute_result"
    }
   ],
   "source": [
    "matrix_tran = matrix.transpose()\n",
    "matrix_tran.shape"
   ]
  },
  {
   "attachments": {},
   "cell_type": "markdown",
   "metadata": {},
   "source": [
    "#### Now let's create the hashed list from our joined data. We are gonna use a variation of this hashing function\n",
    "\n",
    "h(x) = (ax + b) % y"
   ]
  },
  {
   "cell_type": "code",
   "execution_count": 400,
   "metadata": {},
   "outputs": [],
   "source": [
    "def doHash(list,a,b):\n",
    "    #Create a new list for the hashed value\n",
    "    hashed = []\n",
    "\n",
    "    #Parameters for hash function\n",
    "    y = 7919 #Chosen at random\n",
    "\n",
    "    #iterate over the list of values\n",
    "    for value in list:\n",
    "\n",
    "        #Create a temporary value\n",
    "        temp = value\n",
    "\n",
    "        #We can have both string or int in our list so we need to check\n",
    "        #If we have a string then the value will be the sum of char in that string\n",
    "        if type(value) == str:\n",
    "\n",
    "            #create new value \n",
    "            temp = 0\n",
    "\n",
    "            #iterate over every character\n",
    "            for chara in value:\n",
    "                temp += ord(chara)\n",
    "\n",
    "        #compute the hashing function described above\n",
    "        new_value = (int(temp)*a + b) % y\n",
    "\n",
    "        #append the new value to the list\n",
    "        hashed.append(new_value)\n",
    "\n",
    "    return hashed"
   ]
  },
  {
   "cell_type": "markdown",
   "metadata": {},
   "source": [
    "Create a new column for our hashed data with the previous function"
   ]
  },
  {
   "cell_type": "code",
   "execution_count": 359,
   "metadata": {},
   "outputs": [],
   "source": [
    "#Set the parameters for the hashing function\n",
    "a = 59  #random\n",
    "b = 28  #random\n",
    "\n",
    "#Create new column with hashed value\n",
    "data3[\"hashed_data\"] = data3.joined_data.apply(lambda x: doHash(x,a,b,y))"
   ]
  },
  {
   "cell_type": "markdown",
   "metadata": {},
   "source": [
    "Now we create a function that will generate the permutations based on the width of the band that we chose"
   ]
  },
  {
   "cell_type": "code",
   "execution_count": 397,
   "metadata": {},
   "outputs": [],
   "source": [
    "import random\n",
    "\n",
    "def myPermutation(N):\n",
    "    #Set a limit for our random int generator\n",
    "    LIMIT = 10^20\n",
    "\n",
    "    #Create an empty list where all the tuple will be appended\n",
    "    permutationTuples = []\n",
    "\n",
    "    for i in range(N):\n",
    "        #Temporary List to create each tuple before appending it\n",
    "        tempList = []\n",
    "\n",
    "        for i in range(2):\n",
    "            #Generate random number with previosly set limit\n",
    "            tempList.append(random.randint(0, LIMIT))\n",
    "\n",
    "        #Append the tuple into the permutation\n",
    "        permutationTuples.append(tuple(tempList))\n",
    "\n",
    "    return permutationTuples"
   ]
  },
  {
   "cell_type": "markdown",
   "metadata": {},
   "source": [
    "Now let's create the function to build our signature matrix by using minHashing"
   ]
  },
  {
   "cell_type": "code",
   "execution_count": 2,
   "metadata": {},
   "outputs": [],
   "source": [
    "def minHash(data, N, band):\n",
    "    #Counter for allocation\n",
    "    j = 0\n",
    "\n",
    "    #Preallocate the matrix of inf value\n",
    "    signatureMatrix = np.matrix(np.ones((N,shape0)) * np.inf)\n",
    "    print(signatureMatrix.shape)\n",
    "\n",
    "    #Create permutations\n",
    "    permutationsValue = myPermutation(N)\n",
    "\n",
    "    #Iterate over the data\n",
    "    for lst in data:\n",
    "        i = 0\n",
    "        #Iterate over every permutation\n",
    "        for a,b in permutationsValue:\n",
    "            newHashedList = doHash(lst,a,b)\n",
    "\n",
    "            #Iterate over the values in the list\n",
    "            for hashVal in newHashedList:\n",
    "\n",
    "                if (signatureMatrix[i, j] > hashVal):\n",
    "                    signatureMatrix[i, j] = hashVal\n",
    "            \n",
    "            i += 1\n",
    "        j += 1    \n",
    "        \n",
    "\n",
    "    return signatureMatrix"
   ]
  },
  {
   "cell_type": "code",
   "execution_count": 1,
   "metadata": {},
   "outputs": [
    {
     "ename": "NameError",
     "evalue": "name 'minHash' is not defined",
     "output_type": "error",
     "traceback": [
      "\u001b[1;31m---------------------------------------------------------------------------\u001b[0m",
      "\u001b[1;31mNameError\u001b[0m                                 Traceback (most recent call last)",
      "\u001b[1;32m~\\AppData\\Local\\Temp\\ipykernel_37864\\4063348354.py\u001b[0m in \u001b[0;36m<module>\u001b[1;34m\u001b[0m\n\u001b[1;32m----> 1\u001b[1;33m \u001b[0msignatureMatrix\u001b[0m \u001b[1;33m=\u001b[0m \u001b[0mminHash\u001b[0m\u001b[1;33m(\u001b[0m\u001b[0mdata3\u001b[0m\u001b[1;33m.\u001b[0m\u001b[0mhashed_data\u001b[0m\u001b[1;33m,\u001b[0m \u001b[1;36m3\u001b[0m\u001b[1;33m,\u001b[0m \u001b[1;36m2\u001b[0m\u001b[1;33m)\u001b[0m\u001b[1;33m\u001b[0m\u001b[1;33m\u001b[0m\u001b[0m\n\u001b[0m",
      "\u001b[1;31mNameError\u001b[0m: name 'minHash' is not defined"
     ]
    }
   ],
   "source": [
    "signatureMatrix = minHash(data3.hashed_data, 3, 2)"
   ]
  },
  {
   "cell_type": "markdown",
   "metadata": {},
   "source": [
    "#### Old version"
   ]
  },
  {
   "cell_type": "code",
   "execution_count": 232,
   "metadata": {},
   "outputs": [],
   "source": [
    "from numpy import argmax\n",
    "\n",
    "def findSignatureLine(matrix):\n",
    "    first1 = [argmax(col) for col in matrix]\n",
    "    return first1"
   ]
  },
  {
   "cell_type": "code",
   "execution_count": 233,
   "metadata": {},
   "outputs": [],
   "source": [
    "from sklearn.utils import shuffle\n",
    "\n",
    "def createSignatureMatrix(niter: int, matrix):\n",
    "    signature_list_matrix = []\n",
    "    new_m = matrix\n",
    "    for x in range(niter):\n",
    "        new_m = shuffle(matrix)\n",
    "        signature_list_matrix.append(findSignatureLine(new_m))\n",
    "    return pd.DataFrame(signature_list_matrix)\n",
    "    "
   ]
  },
  {
   "cell_type": "code",
   "execution_count": 236,
   "metadata": {},
   "outputs": [],
   "source": [
    "signature = createSignatureMatrix(10, matrix)"
   ]
  },
  {
   "cell_type": "code",
   "execution_count": 239,
   "metadata": {},
   "outputs": [
    {
     "data": {
      "text/html": [
       "<div>\n",
       "<style scoped>\n",
       "    .dataframe tbody tr th:only-of-type {\n",
       "        vertical-align: middle;\n",
       "    }\n",
       "\n",
       "    .dataframe tbody tr th {\n",
       "        vertical-align: top;\n",
       "    }\n",
       "\n",
       "    .dataframe thead th {\n",
       "        text-align: right;\n",
       "    }\n",
       "</style>\n",
       "<table border=\"1\" class=\"dataframe\">\n",
       "  <thead>\n",
       "    <tr style=\"text-align: right;\">\n",
       "      <th></th>\n",
       "      <th>0</th>\n",
       "      <th>1</th>\n",
       "      <th>2</th>\n",
       "      <th>3</th>\n",
       "      <th>4</th>\n",
       "      <th>5</th>\n",
       "      <th>6</th>\n",
       "      <th>7</th>\n",
       "      <th>8</th>\n",
       "      <th>9</th>\n",
       "      <th>...</th>\n",
       "      <th>985312</th>\n",
       "      <th>985313</th>\n",
       "      <th>985314</th>\n",
       "      <th>985315</th>\n",
       "      <th>985316</th>\n",
       "      <th>985317</th>\n",
       "      <th>985318</th>\n",
       "      <th>985319</th>\n",
       "      <th>985320</th>\n",
       "      <th>985321</th>\n",
       "    </tr>\n",
       "  </thead>\n",
       "  <tbody>\n",
       "    <tr>\n",
       "      <th>0</th>\n",
       "      <td>23</td>\n",
       "      <td>20</td>\n",
       "      <td>23</td>\n",
       "      <td>3</td>\n",
       "      <td>2</td>\n",
       "      <td>3</td>\n",
       "      <td>2</td>\n",
       "      <td>9</td>\n",
       "      <td>1</td>\n",
       "      <td>7</td>\n",
       "      <td>...</td>\n",
       "      <td>32</td>\n",
       "      <td>20</td>\n",
       "      <td>35</td>\n",
       "      <td>16</td>\n",
       "      <td>16</td>\n",
       "      <td>20</td>\n",
       "      <td>17</td>\n",
       "      <td>7</td>\n",
       "      <td>1</td>\n",
       "      <td>13</td>\n",
       "    </tr>\n",
       "    <tr>\n",
       "      <th>1</th>\n",
       "      <td>5</td>\n",
       "      <td>5</td>\n",
       "      <td>17</td>\n",
       "      <td>35</td>\n",
       "      <td>20</td>\n",
       "      <td>17</td>\n",
       "      <td>23</td>\n",
       "      <td>16</td>\n",
       "      <td>46</td>\n",
       "      <td>3</td>\n",
       "      <td>...</td>\n",
       "      <td>5</td>\n",
       "      <td>48</td>\n",
       "      <td>35</td>\n",
       "      <td>7</td>\n",
       "      <td>44</td>\n",
       "      <td>9</td>\n",
       "      <td>5</td>\n",
       "      <td>47</td>\n",
       "      <td>39</td>\n",
       "      <td>17</td>\n",
       "    </tr>\n",
       "    <tr>\n",
       "      <th>2</th>\n",
       "      <td>35</td>\n",
       "      <td>3</td>\n",
       "      <td>17</td>\n",
       "      <td>47</td>\n",
       "      <td>3</td>\n",
       "      <td>20</td>\n",
       "      <td>22</td>\n",
       "      <td>35</td>\n",
       "      <td>9</td>\n",
       "      <td>1</td>\n",
       "      <td>...</td>\n",
       "      <td>47</td>\n",
       "      <td>41</td>\n",
       "      <td>32</td>\n",
       "      <td>38</td>\n",
       "      <td>5</td>\n",
       "      <td>3</td>\n",
       "      <td>3</td>\n",
       "      <td>41</td>\n",
       "      <td>7</td>\n",
       "      <td>13</td>\n",
       "    </tr>\n",
       "    <tr>\n",
       "      <th>3</th>\n",
       "      <td>15</td>\n",
       "      <td>3</td>\n",
       "      <td>34</td>\n",
       "      <td>48</td>\n",
       "      <td>20</td>\n",
       "      <td>3</td>\n",
       "      <td>32</td>\n",
       "      <td>40</td>\n",
       "      <td>17</td>\n",
       "      <td>16</td>\n",
       "      <td>...</td>\n",
       "      <td>38</td>\n",
       "      <td>7</td>\n",
       "      <td>3</td>\n",
       "      <td>17</td>\n",
       "      <td>23</td>\n",
       "      <td>7</td>\n",
       "      <td>7</td>\n",
       "      <td>2</td>\n",
       "      <td>39</td>\n",
       "      <td>2</td>\n",
       "    </tr>\n",
       "    <tr>\n",
       "      <th>4</th>\n",
       "      <td>1</td>\n",
       "      <td>9</td>\n",
       "      <td>15</td>\n",
       "      <td>33</td>\n",
       "      <td>3</td>\n",
       "      <td>17</td>\n",
       "      <td>17</td>\n",
       "      <td>22</td>\n",
       "      <td>38</td>\n",
       "      <td>34</td>\n",
       "      <td>...</td>\n",
       "      <td>7</td>\n",
       "      <td>38</td>\n",
       "      <td>35</td>\n",
       "      <td>2</td>\n",
       "      <td>9</td>\n",
       "      <td>48</td>\n",
       "      <td>5</td>\n",
       "      <td>7</td>\n",
       "      <td>7</td>\n",
       "      <td>45</td>\n",
       "    </tr>\n",
       "    <tr>\n",
       "      <th>5</th>\n",
       "      <td>7</td>\n",
       "      <td>23</td>\n",
       "      <td>9</td>\n",
       "      <td>15</td>\n",
       "      <td>20</td>\n",
       "      <td>16</td>\n",
       "      <td>22</td>\n",
       "      <td>47</td>\n",
       "      <td>5</td>\n",
       "      <td>34</td>\n",
       "      <td>...</td>\n",
       "      <td>23</td>\n",
       "      <td>2</td>\n",
       "      <td>39</td>\n",
       "      <td>17</td>\n",
       "      <td>17</td>\n",
       "      <td>23</td>\n",
       "      <td>3</td>\n",
       "      <td>9</td>\n",
       "      <td>16</td>\n",
       "      <td>50</td>\n",
       "    </tr>\n",
       "    <tr>\n",
       "      <th>6</th>\n",
       "      <td>15</td>\n",
       "      <td>7</td>\n",
       "      <td>3</td>\n",
       "      <td>3</td>\n",
       "      <td>16</td>\n",
       "      <td>2</td>\n",
       "      <td>17</td>\n",
       "      <td>7</td>\n",
       "      <td>3</td>\n",
       "      <td>23</td>\n",
       "      <td>...</td>\n",
       "      <td>44</td>\n",
       "      <td>38</td>\n",
       "      <td>22</td>\n",
       "      <td>23</td>\n",
       "      <td>9</td>\n",
       "      <td>3</td>\n",
       "      <td>2</td>\n",
       "      <td>15</td>\n",
       "      <td>23</td>\n",
       "      <td>1</td>\n",
       "    </tr>\n",
       "    <tr>\n",
       "      <th>7</th>\n",
       "      <td>3</td>\n",
       "      <td>2</td>\n",
       "      <td>7</td>\n",
       "      <td>2</td>\n",
       "      <td>15</td>\n",
       "      <td>17</td>\n",
       "      <td>3</td>\n",
       "      <td>20</td>\n",
       "      <td>16</td>\n",
       "      <td>20</td>\n",
       "      <td>...</td>\n",
       "      <td>2</td>\n",
       "      <td>9</td>\n",
       "      <td>35</td>\n",
       "      <td>7</td>\n",
       "      <td>33</td>\n",
       "      <td>3</td>\n",
       "      <td>16</td>\n",
       "      <td>3</td>\n",
       "      <td>47</td>\n",
       "      <td>47</td>\n",
       "    </tr>\n",
       "    <tr>\n",
       "      <th>8</th>\n",
       "      <td>1</td>\n",
       "      <td>17</td>\n",
       "      <td>48</td>\n",
       "      <td>1</td>\n",
       "      <td>34</td>\n",
       "      <td>9</td>\n",
       "      <td>23</td>\n",
       "      <td>3</td>\n",
       "      <td>16</td>\n",
       "      <td>47</td>\n",
       "      <td>...</td>\n",
       "      <td>16</td>\n",
       "      <td>2</td>\n",
       "      <td>47</td>\n",
       "      <td>49</td>\n",
       "      <td>15</td>\n",
       "      <td>2</td>\n",
       "      <td>38</td>\n",
       "      <td>20</td>\n",
       "      <td>5</td>\n",
       "      <td>33</td>\n",
       "    </tr>\n",
       "    <tr>\n",
       "      <th>9</th>\n",
       "      <td>13</td>\n",
       "      <td>1</td>\n",
       "      <td>16</td>\n",
       "      <td>22</td>\n",
       "      <td>35</td>\n",
       "      <td>38</td>\n",
       "      <td>5</td>\n",
       "      <td>16</td>\n",
       "      <td>42</td>\n",
       "      <td>47</td>\n",
       "      <td>...</td>\n",
       "      <td>38</td>\n",
       "      <td>33</td>\n",
       "      <td>20</td>\n",
       "      <td>3</td>\n",
       "      <td>20</td>\n",
       "      <td>39</td>\n",
       "      <td>22</td>\n",
       "      <td>22</td>\n",
       "      <td>3</td>\n",
       "      <td>32</td>\n",
       "    </tr>\n",
       "  </tbody>\n",
       "</table>\n",
       "<p>10 rows × 985322 columns</p>\n",
       "</div>"
      ],
      "text/plain": [
       "   0       1       2       3       4       5       6       7       8       \\\n",
       "0      23      20      23       3       2       3       2       9       1   \n",
       "1       5       5      17      35      20      17      23      16      46   \n",
       "2      35       3      17      47       3      20      22      35       9   \n",
       "3      15       3      34      48      20       3      32      40      17   \n",
       "4       1       9      15      33       3      17      17      22      38   \n",
       "5       7      23       9      15      20      16      22      47       5   \n",
       "6      15       7       3       3      16       2      17       7       3   \n",
       "7       3       2       7       2      15      17       3      20      16   \n",
       "8       1      17      48       1      34       9      23       3      16   \n",
       "9      13       1      16      22      35      38       5      16      42   \n",
       "\n",
       "   9       ...  985312  985313  985314  985315  985316  985317  985318  \\\n",
       "0       7  ...      32      20      35      16      16      20      17   \n",
       "1       3  ...       5      48      35       7      44       9       5   \n",
       "2       1  ...      47      41      32      38       5       3       3   \n",
       "3      16  ...      38       7       3      17      23       7       7   \n",
       "4      34  ...       7      38      35       2       9      48       5   \n",
       "5      34  ...      23       2      39      17      17      23       3   \n",
       "6      23  ...      44      38      22      23       9       3       2   \n",
       "7      20  ...       2       9      35       7      33       3      16   \n",
       "8      47  ...      16       2      47      49      15       2      38   \n",
       "9      47  ...      38      33      20       3      20      39      22   \n",
       "\n",
       "   985319  985320  985321  \n",
       "0       7       1      13  \n",
       "1      47      39      17  \n",
       "2      41       7      13  \n",
       "3       2      39       2  \n",
       "4       7       7      45  \n",
       "5       9      16      50  \n",
       "6      15      23       1  \n",
       "7       3      47      47  \n",
       "8      20       5      33  \n",
       "9      22       3      32  \n",
       "\n",
       "[10 rows x 985322 columns]"
      ]
     },
     "execution_count": 239,
     "metadata": {},
     "output_type": "execute_result"
    }
   ],
   "source": [
    "signature"
   ]
  },
  {
   "cell_type": "code",
   "execution_count": 237,
   "metadata": {},
   "outputs": [],
   "source": [
    "def minHash(listSignature, b):\n",
    "    return set(listSignature)"
   ]
  },
  {
   "cell_type": "code",
   "execution_count": 270,
   "metadata": {},
   "outputs": [],
   "source": [
    "def findBind(signature, b):\n",
    "    dic = {}\n",
    "    len_x = signature.shape[1]\n",
    "    len_y = signature.shape[0]\n",
    "    for x in range(b, len_x, b):\n",
    "        for y in range(b, len_y):\n",
    "            mytuple = signature.iloc[(x-b):x,(y-1):y]\n",
    "            mytuple = tuple(map(int, mytuple.to_numpy()))\n",
    "            if str(mytuple) in dic.keys():\n",
    "                dic[str(mytuple)].append(signature[x].name)\n",
    "            else:\n",
    "                dic[str(mytuple)] = list(signature[x].name)\n",
    "    return dic"
   ]
  },
  {
   "cell_type": "code",
   "execution_count": 271,
   "metadata": {},
   "outputs": [
    {
     "ename": "TypeError",
     "evalue": "'int' object is not iterable",
     "output_type": "error",
     "traceback": [
      "\u001b[1;31m---------------------------------------------------------------------------\u001b[0m",
      "\u001b[1;31mTypeError\u001b[0m                                 Traceback (most recent call last)",
      "\u001b[1;32m~\\AppData\\Local\\Temp\\ipykernel_30152\\2683232306.py\u001b[0m in \u001b[0;36m<module>\u001b[1;34m\u001b[0m\n\u001b[1;32m----> 1\u001b[1;33m \u001b[0mmyDic\u001b[0m\u001b[1;33m=\u001b[0m \u001b[0mfindBind\u001b[0m\u001b[1;33m(\u001b[0m\u001b[0msignature\u001b[0m\u001b[1;33m,\u001b[0m \u001b[1;36m2\u001b[0m\u001b[1;33m)\u001b[0m\u001b[1;33m\u001b[0m\u001b[1;33m\u001b[0m\u001b[0m\n\u001b[0m",
      "\u001b[1;32m~\\AppData\\Local\\Temp\\ipykernel_30152\\895835047.py\u001b[0m in \u001b[0;36mfindBind\u001b[1;34m(signature, b)\u001b[0m\n\u001b[0;32m     10\u001b[0m                 \u001b[0mdic\u001b[0m\u001b[1;33m[\u001b[0m\u001b[0mstr\u001b[0m\u001b[1;33m(\u001b[0m\u001b[0mmytuple\u001b[0m\u001b[1;33m)\u001b[0m\u001b[1;33m]\u001b[0m\u001b[1;33m.\u001b[0m\u001b[0mappend\u001b[0m\u001b[1;33m(\u001b[0m\u001b[0msignature\u001b[0m\u001b[1;33m[\u001b[0m\u001b[0mx\u001b[0m\u001b[1;33m]\u001b[0m\u001b[1;33m.\u001b[0m\u001b[0mname\u001b[0m\u001b[1;33m)\u001b[0m\u001b[1;33m\u001b[0m\u001b[1;33m\u001b[0m\u001b[0m\n\u001b[0;32m     11\u001b[0m             \u001b[1;32melse\u001b[0m\u001b[1;33m:\u001b[0m\u001b[1;33m\u001b[0m\u001b[1;33m\u001b[0m\u001b[0m\n\u001b[1;32m---> 12\u001b[1;33m                 \u001b[0mdic\u001b[0m\u001b[1;33m[\u001b[0m\u001b[0mstr\u001b[0m\u001b[1;33m(\u001b[0m\u001b[0mmytuple\u001b[0m\u001b[1;33m)\u001b[0m\u001b[1;33m]\u001b[0m \u001b[1;33m=\u001b[0m \u001b[0mlist\u001b[0m\u001b[1;33m(\u001b[0m\u001b[0msignature\u001b[0m\u001b[1;33m[\u001b[0m\u001b[0mx\u001b[0m\u001b[1;33m]\u001b[0m\u001b[1;33m.\u001b[0m\u001b[0mname\u001b[0m\u001b[1;33m)\u001b[0m\u001b[1;33m\u001b[0m\u001b[1;33m\u001b[0m\u001b[0m\n\u001b[0m\u001b[0;32m     13\u001b[0m     \u001b[1;32mreturn\u001b[0m \u001b[0mdic\u001b[0m\u001b[1;33m\u001b[0m\u001b[1;33m\u001b[0m\u001b[0m\n",
      "\u001b[1;31mTypeError\u001b[0m: 'int' object is not iterable"
     ]
    }
   ],
   "source": [
    "myDic= findBind(signature, 2)"
   ]
  },
  {
   "cell_type": "code",
   "execution_count": 272,
   "metadata": {},
   "outputs": [
    {
     "data": {
      "text/html": [
       "<div>\n",
       "<style scoped>\n",
       "    .dataframe tbody tr th:only-of-type {\n",
       "        vertical-align: middle;\n",
       "    }\n",
       "\n",
       "    .dataframe tbody tr th {\n",
       "        vertical-align: top;\n",
       "    }\n",
       "\n",
       "    .dataframe thead th {\n",
       "        text-align: right;\n",
       "    }\n",
       "</style>\n",
       "<table border=\"1\" class=\"dataframe\">\n",
       "  <thead>\n",
       "    <tr style=\"text-align: right;\">\n",
       "      <th></th>\n",
       "      <th>0</th>\n",
       "      <th>1</th>\n",
       "      <th>2</th>\n",
       "      <th>3</th>\n",
       "      <th>4</th>\n",
       "      <th>5</th>\n",
       "      <th>6</th>\n",
       "      <th>7</th>\n",
       "      <th>8</th>\n",
       "      <th>9</th>\n",
       "      <th>...</th>\n",
       "      <th>985312</th>\n",
       "      <th>985313</th>\n",
       "      <th>985314</th>\n",
       "      <th>985315</th>\n",
       "      <th>985316</th>\n",
       "      <th>985317</th>\n",
       "      <th>985318</th>\n",
       "      <th>985319</th>\n",
       "      <th>985320</th>\n",
       "      <th>985321</th>\n",
       "    </tr>\n",
       "  </thead>\n",
       "  <tbody>\n",
       "    <tr>\n",
       "      <th>0</th>\n",
       "      <td>23</td>\n",
       "      <td>20</td>\n",
       "      <td>23</td>\n",
       "      <td>3</td>\n",
       "      <td>2</td>\n",
       "      <td>3</td>\n",
       "      <td>2</td>\n",
       "      <td>9</td>\n",
       "      <td>1</td>\n",
       "      <td>7</td>\n",
       "      <td>...</td>\n",
       "      <td>32</td>\n",
       "      <td>20</td>\n",
       "      <td>35</td>\n",
       "      <td>16</td>\n",
       "      <td>16</td>\n",
       "      <td>20</td>\n",
       "      <td>17</td>\n",
       "      <td>7</td>\n",
       "      <td>1</td>\n",
       "      <td>13</td>\n",
       "    </tr>\n",
       "    <tr>\n",
       "      <th>1</th>\n",
       "      <td>5</td>\n",
       "      <td>5</td>\n",
       "      <td>17</td>\n",
       "      <td>35</td>\n",
       "      <td>20</td>\n",
       "      <td>17</td>\n",
       "      <td>23</td>\n",
       "      <td>16</td>\n",
       "      <td>46</td>\n",
       "      <td>3</td>\n",
       "      <td>...</td>\n",
       "      <td>5</td>\n",
       "      <td>48</td>\n",
       "      <td>35</td>\n",
       "      <td>7</td>\n",
       "      <td>44</td>\n",
       "      <td>9</td>\n",
       "      <td>5</td>\n",
       "      <td>47</td>\n",
       "      <td>39</td>\n",
       "      <td>17</td>\n",
       "    </tr>\n",
       "    <tr>\n",
       "      <th>2</th>\n",
       "      <td>35</td>\n",
       "      <td>3</td>\n",
       "      <td>17</td>\n",
       "      <td>47</td>\n",
       "      <td>3</td>\n",
       "      <td>20</td>\n",
       "      <td>22</td>\n",
       "      <td>35</td>\n",
       "      <td>9</td>\n",
       "      <td>1</td>\n",
       "      <td>...</td>\n",
       "      <td>47</td>\n",
       "      <td>41</td>\n",
       "      <td>32</td>\n",
       "      <td>38</td>\n",
       "      <td>5</td>\n",
       "      <td>3</td>\n",
       "      <td>3</td>\n",
       "      <td>41</td>\n",
       "      <td>7</td>\n",
       "      <td>13</td>\n",
       "    </tr>\n",
       "    <tr>\n",
       "      <th>3</th>\n",
       "      <td>15</td>\n",
       "      <td>3</td>\n",
       "      <td>34</td>\n",
       "      <td>48</td>\n",
       "      <td>20</td>\n",
       "      <td>3</td>\n",
       "      <td>32</td>\n",
       "      <td>40</td>\n",
       "      <td>17</td>\n",
       "      <td>16</td>\n",
       "      <td>...</td>\n",
       "      <td>38</td>\n",
       "      <td>7</td>\n",
       "      <td>3</td>\n",
       "      <td>17</td>\n",
       "      <td>23</td>\n",
       "      <td>7</td>\n",
       "      <td>7</td>\n",
       "      <td>2</td>\n",
       "      <td>39</td>\n",
       "      <td>2</td>\n",
       "    </tr>\n",
       "    <tr>\n",
       "      <th>4</th>\n",
       "      <td>1</td>\n",
       "      <td>9</td>\n",
       "      <td>15</td>\n",
       "      <td>33</td>\n",
       "      <td>3</td>\n",
       "      <td>17</td>\n",
       "      <td>17</td>\n",
       "      <td>22</td>\n",
       "      <td>38</td>\n",
       "      <td>34</td>\n",
       "      <td>...</td>\n",
       "      <td>7</td>\n",
       "      <td>38</td>\n",
       "      <td>35</td>\n",
       "      <td>2</td>\n",
       "      <td>9</td>\n",
       "      <td>48</td>\n",
       "      <td>5</td>\n",
       "      <td>7</td>\n",
       "      <td>7</td>\n",
       "      <td>45</td>\n",
       "    </tr>\n",
       "  </tbody>\n",
       "</table>\n",
       "<p>5 rows × 985322 columns</p>\n",
       "</div>"
      ],
      "text/plain": [
       "   0       1       2       3       4       5       6       7       8       \\\n",
       "0      23      20      23       3       2       3       2       9       1   \n",
       "1       5       5      17      35      20      17      23      16      46   \n",
       "2      35       3      17      47       3      20      22      35       9   \n",
       "3      15       3      34      48      20       3      32      40      17   \n",
       "4       1       9      15      33       3      17      17      22      38   \n",
       "\n",
       "   9       ...  985312  985313  985314  985315  985316  985317  985318  \\\n",
       "0       7  ...      32      20      35      16      16      20      17   \n",
       "1       3  ...       5      48      35       7      44       9       5   \n",
       "2       1  ...      47      41      32      38       5       3       3   \n",
       "3      16  ...      38       7       3      17      23       7       7   \n",
       "4      34  ...       7      38      35       2       9      48       5   \n",
       "\n",
       "   985319  985320  985321  \n",
       "0       7       1      13  \n",
       "1      47      39      17  \n",
       "2      41       7      13  \n",
       "3       2      39       2  \n",
       "4       7       7      45  \n",
       "\n",
       "[5 rows x 985322 columns]"
      ]
     },
     "execution_count": 272,
     "metadata": {},
     "output_type": "execute_result"
    }
   ],
   "source": [
    "signature.head()"
   ]
  },
  {
   "cell_type": "code",
   "execution_count": 273,
   "metadata": {},
   "outputs": [],
   "source": [
    "from datasketch import MinHash, MinHashLSHForest\n"
   ]
  },
  {
   "cell_type": "code",
   "execution_count": 289,
   "metadata": {},
   "outputs": [
    {
     "name": "stdout",
     "output_type": "stream",
     "text": [
      "['40', 'jamshedpur', '24977', '201602', '14', '500']\n",
      "<datasketch.minhash.MinHash object at 0x00000265283142B0>\n"
     ]
    }
   ],
   "source": [
    "for text in data3.joined_data:\n",
    "        print(text)\n",
    "        m = MinHash(num_perm=4)\n",
    "        m.update(\"new value\".encode('utf-8'))\n",
    "        print(m)\n",
    "        break"
   ]
  },
  {
   "cell_type": "code",
   "execution_count": 281,
   "metadata": {},
   "outputs": [
    {
     "data": {
      "text/plain": [
       "0.0"
      ]
     },
     "execution_count": 281,
     "metadata": {},
     "output_type": "execute_result"
    }
   ],
   "source": [
    "m.count()"
   ]
  },
  {
   "cell_type": "code",
   "execution_count": 291,
   "metadata": {},
   "outputs": [],
   "source": [
    "def get_forest(data, perms):\n",
    "    start_time = time.time()\n",
    "    \n",
    "    minhash = []\n",
    "    \n",
    "    for text in data.joined_data:\n",
    "        m = MinHash(num_perm=perms)\n",
    "        for s in text:\n",
    "            m.update(s.encode('utf8'))\n",
    "        minhash.append(m)\n",
    "        \n",
    "    forest = MinHashLSHForest(num_perm=perms)\n",
    "    \n",
    "    for i,m in enumerate(minhash):\n",
    "        forest.add(i,m)\n",
    "        \n",
    "    forest.index()\n",
    "    \n",
    "    print('It took %s seconds to build forest.' %(time.time()-start_time))\n",
    "    \n",
    "    return forest"
   ]
  },
  {
   "cell_type": "code",
   "execution_count": 292,
   "metadata": {},
   "outputs": [
    {
     "name": "stdout",
     "output_type": "stream",
     "text": [
      "It took 356.11614966392517 seconds to build forest.\n"
     ]
    }
   ],
   "source": [
    "forest = get_forest(data3, 10)"
   ]
  },
  {
   "cell_type": "code",
   "execution_count": 294,
   "metadata": {},
   "outputs": [
    {
     "ename": "TypeError",
     "evalue": "'int' object is not iterable",
     "output_type": "error",
     "traceback": [
      "\u001b[1;31m---------------------------------------------------------------------------\u001b[0m",
      "\u001b[1;31mTypeError\u001b[0m                                 Traceback (most recent call last)",
      "\u001b[1;32m~\\AppData\\Local\\Temp\\ipykernel_30152\\2203737259.py\u001b[0m in \u001b[0;36m<module>\u001b[1;34m\u001b[0m\n\u001b[1;32m----> 1\u001b[1;33m \u001b[0menumerate\u001b[0m\u001b[1;33m(\u001b[0m\u001b[1;36m199\u001b[0m\u001b[1;33m)\u001b[0m\u001b[1;33m\u001b[0m\u001b[1;33m\u001b[0m\u001b[0m\n\u001b[0m",
      "\u001b[1;31mTypeError\u001b[0m: 'int' object is not iterable"
     ]
    }
   ],
   "source": [
    "enumerate(199)"
   ]
  },
  {
   "cell_type": "code",
   "execution_count": 299,
   "metadata": {},
   "outputs": [],
   "source": [
    "from random import randint\n",
    "N = 100\n",
    "max_val = 2^32-1\n",
    "permutations = [(randint(0,max_val), randint(0,max_val)) for _ in range(N)]"
   ]
  },
  {
   "cell_type": "code",
   "execution_count": 301,
   "metadata": {},
   "outputs": [
    {
     "name": "stdout",
     "output_type": "stream",
     "text": [
      "0\n",
      "(28, 7)\n"
     ]
    }
   ],
   "source": [
    "for i,j in enumerate(permutations):\n",
    "    print(i)\n",
    "    print(j)\n",
    "    break"
   ]
  },
  {
   "cell_type": "code",
   "execution_count": null,
   "metadata": {},
   "outputs": [],
   "source": [
    "try1  = sum([ ord(x)*(p^i) for i,x in enumerate(77)])%m"
   ]
  }
 ],
 "metadata": {
  "kernelspec": {
   "display_name": "Python 3.9.13 ('base')",
   "language": "python",
   "name": "python3"
  },
  "language_info": {
   "codemirror_mode": {
    "name": "ipython",
    "version": 3
   },
   "file_extension": ".py",
   "mimetype": "text/x-python",
   "name": "python",
   "nbconvert_exporter": "python",
   "pygments_lexer": "ipython3",
   "version": "3.9.13"
  },
  "orig_nbformat": 4,
  "vscode": {
   "interpreter": {
    "hash": "673b3a28213e3c597c6fa49b945d6bcb4c24a69618c6cbd1a3b12a5f14d6b7d7"
   }
  }
 },
 "nbformat": 4,
 "nbformat_minor": 2
}
